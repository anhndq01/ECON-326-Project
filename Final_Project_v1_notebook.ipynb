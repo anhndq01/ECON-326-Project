{
 "cells": [
  {
   "cell_type": "markdown",
   "id": "eee83a13-888c-4e2c-a120-74770e6431d2",
   "metadata": {},
   "source": [
    "# ECON 326 Final Project\n",
    "#### Members: Lucy Zhu, Cynthia Cui, Kaylie Nguyen"
   ]
  },
  {
   "cell_type": "markdown",
   "id": "cb1edd75-9ac4-4344-b66a-c2eaf15bacf4",
   "metadata": {
    "tags": []
   },
   "source": [
    "## Importing Packages"
   ]
  },
  {
   "cell_type": "code",
   "execution_count": 1,
   "id": "c6053ffb-066c-4753-a857-ce3454e2d1cf",
   "metadata": {},
   "outputs": [
    {
     "name": "stderr",
     "output_type": "stream",
     "text": [
      "Warning message:\n",
      "\"package 'cleandata' was built under R version 3.6.3\"\n",
      "Registered S3 methods overwritten by 'ggplot2':\n",
      "  method         from \n",
      "  [.quosures     rlang\n",
      "  c.quosures     rlang\n",
      "  print.quosures rlang\n",
      "\n",
      "Registered S3 method overwritten by 'rvest':\n",
      "  method            from\n",
      "  read_xml.response xml2\n",
      "\n",
      "-- \u001b[1mAttaching packages\u001b[22m --------------------------------------- tidyverse 1.2.1 --\n",
      "\n",
      "\u001b[32m√\u001b[39m \u001b[34mggplot2\u001b[39m 3.1.1       \u001b[32m√\u001b[39m \u001b[34mpurrr  \u001b[39m 0.3.2  \n",
      "\u001b[32m√\u001b[39m \u001b[34mtibble \u001b[39m 2.1.1       \u001b[32m√\u001b[39m \u001b[34mdplyr  \u001b[39m 0.8.0.\u001b[31m1\u001b[39m\n",
      "\u001b[32m√\u001b[39m \u001b[34mreadr  \u001b[39m 1.3.1       \u001b[32m√\u001b[39m \u001b[34mstringr\u001b[39m 1.4.0  \n",
      "\u001b[32m√\u001b[39m \u001b[34mggplot2\u001b[39m 3.1.1       \u001b[32m√\u001b[39m \u001b[34mforcats\u001b[39m 0.4.0  \n",
      "\n",
      "-- \u001b[1mConflicts\u001b[22m ------------------------------------------ tidyverse_conflicts() --\n",
      "\u001b[31mx\u001b[39m \u001b[34mdplyr\u001b[39m::\u001b[32mfilter()\u001b[39m masks \u001b[34mstats\u001b[39m::filter()\n",
      "\u001b[31mx\u001b[39m \u001b[34mdplyr\u001b[39m::\u001b[32mlag()\u001b[39m    masks \u001b[34mstats\u001b[39m::lag()\n",
      "\n",
      "\n",
      "Please cite as: \n",
      "\n",
      "\n",
      " Hlavac, Marek (2018). stargazer: Well-Formatted Regression and Summary Statistics Tables.\n",
      "\n",
      " R package version 5.2.2. https://CRAN.R-project.org/package=stargazer \n",
      "\n",
      "\n",
      "Warning message:\n",
      "\"package 'lmtest' was built under R version 3.6.3\"\n",
      "Loading required package: zoo\n",
      "\n",
      "\n",
      "Attaching package: 'zoo'\n",
      "\n",
      "\n",
      "The following objects are masked from 'package:base':\n",
      "\n",
      "    as.Date, as.Date.numeric\n",
      "\n",
      "\n",
      "Loading required package: carData\n",
      "\n",
      "\n",
      "Attaching package: 'car'\n",
      "\n",
      "\n",
      "The following object is masked from 'package:dplyr':\n",
      "\n",
      "    recode\n",
      "\n",
      "\n",
      "The following object is masked from 'package:purrr':\n",
      "\n",
      "    some\n",
      "\n",
      "\n"
     ]
    }
   ],
   "source": [
    "library(cleandata)\n",
    "library(tidyr)\n",
    "library(tidyverse) \n",
    "library(haven)\n",
    "library(dplyr)\n",
    "library(stargazer)\n",
    "library(lmtest)\n",
    "library(sandwich)\n",
    "library(car)"
   ]
  },
  {
   "cell_type": "markdown",
   "id": "bb4bb70d-b918-4ca6-a89d-a4249cf82332",
   "metadata": {},
   "source": [
    "## Data Loading"
   ]
  },
  {
   "cell_type": "code",
   "execution_count": 3,
   "id": "c66de161-735d-499b-8010-1022363b2276",
   "metadata": {},
   "outputs": [
    {
     "data": {
      "text/html": [
       "<table>\n",
       "<thead><tr><th scope=col>X</th><th scope=col>main_cat</th><th scope=col>price</th><th scope=col>asin</th><th scope=col>rank</th><th scope=col>overall</th></tr></thead>\n",
       "<tbody>\n",
       "\t<tr><td>0                                             </td><td>All Beauty                                    </td><td><span style=white-space:pre-wrap>      </span></td><td>6546546450                                    </td><td>2,938,573 in Beauty &amp; Personal Care (     </td><td>4                                             </td></tr>\n",
       "\t<tr><td>1                                             </td><td>All Beauty                                    </td><td><span style=white-space:pre-wrap>      </span></td><td>6546546450                                    </td><td>2,938,573 in Beauty &amp; Personal Care (     </td><td>1                                             </td></tr>\n",
       "\t<tr><td>2                                                                                </td><td>All Beauty                                                                       </td><td>$44.99                                                                           </td><td>7178680776                                                                       </td><td><span style=white-space:pre-wrap>872,854 in Beauty &amp; Personal Care (  </span></td><td>3                                                                                </td></tr>\n",
       "\t<tr><td>3                                                                                </td><td>All Beauty                                                                       </td><td>$28.76                                                                           </td><td>7250468162                                                                       </td><td><span style=white-space:pre-wrap>956,696 in Beauty &amp; Personal Care (  </span></td><td>5                                                                                </td></tr>\n",
       "\t<tr><td>4                                             </td><td>All Beauty                                    </td><td><span style=white-space:pre-wrap>      </span></td><td>7367905066                                    </td><td>1,870,258 in Beauty &amp; Personal Care (     </td><td>5                                             </td></tr>\n",
       "\t<tr><td>5                                                                                </td><td>All Beauty                                                                       </td><td>$12.15                                                                           </td><td>7414204790                                                                       </td><td><span style=white-space:pre-wrap>67,701 in Beauty &amp; Personal Care (   </span></td><td>5                                                                                </td></tr>\n",
       "</tbody>\n",
       "</table>\n"
      ],
      "text/latex": [
       "\\begin{tabular}{r|llllll}\n",
       " X & main\\_cat & price & asin & rank & overall\\\\\n",
       "\\hline\n",
       "\t 0                                       & All Beauty                              &                                         & 6546546450                              & 2,938,573 in Beauty \\& Personal Care ( & 4                                      \\\\\n",
       "\t 1                                       & All Beauty                              &                                         & 6546546450                              & 2,938,573 in Beauty \\& Personal Care ( & 1                                      \\\\\n",
       "\t 2                                       & All Beauty                              & \\$44.99                                & 7178680776                              & 872,854 in Beauty \\& Personal Care (   & 3                                      \\\\\n",
       "\t 3                                       & All Beauty                              & \\$28.76                                & 7250468162                              & 956,696 in Beauty \\& Personal Care (   & 5                                      \\\\\n",
       "\t 4                                       & All Beauty                              &                                         & 7367905066                              & 1,870,258 in Beauty \\& Personal Care ( & 5                                      \\\\\n",
       "\t 5                                       & All Beauty                              & \\$12.15                                & 7414204790                              & 67,701 in Beauty \\& Personal Care (    & 5                                      \\\\\n",
       "\\end{tabular}\n"
      ],
      "text/markdown": [
       "\n",
       "| X | main_cat | price | asin | rank | overall |\n",
       "|---|---|---|---|---|---|\n",
       "| 0                                     | All Beauty                            |                                       | 6546546450                            | 2,938,573 in Beauty & Personal Care ( | 4                                     |\n",
       "| 1                                     | All Beauty                            |                                       | 6546546450                            | 2,938,573 in Beauty & Personal Care ( | 1                                     |\n",
       "| 2                                     | All Beauty                            | $44.99                                | 7178680776                            | 872,854 in Beauty & Personal Care (   | 3                                     |\n",
       "| 3                                     | All Beauty                            | $28.76                                | 7250468162                            | 956,696 in Beauty & Personal Care (   | 5                                     |\n",
       "| 4                                     | All Beauty                            |                                       | 7367905066                            | 1,870,258 in Beauty & Personal Care ( | 5                                     |\n",
       "| 5                                     | All Beauty                            | $12.15                                | 7414204790                            | 67,701 in Beauty & Personal Care (    | 5                                     |\n",
       "\n"
      ],
      "text/plain": [
       "  X main_cat   price  asin       rank                                  overall\n",
       "1 0 All Beauty        6546546450 2,938,573 in Beauty & Personal Care ( 4      \n",
       "2 1 All Beauty        6546546450 2,938,573 in Beauty & Personal Care ( 1      \n",
       "3 2 All Beauty $44.99 7178680776 872,854 in Beauty & Personal Care (   3      \n",
       "4 3 All Beauty $28.76 7250468162 956,696 in Beauty & Personal Care (   5      \n",
       "5 4 All Beauty        7367905066 1,870,258 in Beauty & Personal Care ( 5      \n",
       "6 5 All Beauty $12.15 7414204790 67,701 in Beauty & Personal Care (    5      "
      ]
     },
     "metadata": {},
     "output_type": "display_data"
    }
   ],
   "source": [
    "amazon_data <- read.csv(\"amazon_beauty_data.csv\")\n",
    "head(amazon_data)"
   ]
  },
  {
   "cell_type": "markdown",
   "id": "ec99ece0-427a-4ea1-8c9a-3e2eb8953f6c",
   "metadata": {},
   "source": [
    "## Data Wrangling"
   ]
  },
  {
   "cell_type": "markdown",
   "id": "5275b78e-ed14-4143-b69d-3f0e09b5be8f",
   "metadata": {},
   "source": [
    "In this part, we will extract the data so that `price` and `rank`, which are currently of type `chr`, will only include the numeric values of interest. In addition, since each observation is the ratings on a buyer for a certain products, a products can appear on multiple rows. We will group by the product code (`asin`) and find the average rating for each of the product, which is our variable of interest."
   ]
  },
  {
   "cell_type": "code",
   "execution_count": 3,
   "id": "93d92ec0-871d-4fee-bb22-60812c65fb2e",
   "metadata": {},
   "outputs": [
    {
     "name": "stderr",
     "output_type": "stream",
     "text": [
      "Warning message:\n",
      "“\u001b[1m\u001b[22mThere was 1 warning in `mutate()`.\n",
      "\u001b[1m\u001b[22m\u001b[36mℹ\u001b[39m In argument: `price = as.numeric(price)`.\n",
      "Caused by warning:\n",
      "\u001b[33m!\u001b[39m NAs introduced by coercion”\n",
      "Warning message:\n",
      "“\u001b[1m\u001b[22mThere was 1 warning in `mutate()`.\n",
      "\u001b[1m\u001b[22m\u001b[36mℹ\u001b[39m In argument: `rank = parse_number(rank)`.\n",
      "Caused by warning:\n",
      "\u001b[33m!\u001b[39m 4957 parsing failures.\n",
      " row col expected actual\n",
      "4148  -- a number     []\n",
      "4149  -- a number     []\n",
      "4350  -- a number     []\n",
      "4351  -- a number     []\n",
      "4352  -- a number     []\n",
      ".... ... ........ ......\n",
      "See problems(...) for more details.”\n",
      "Warning message:\n",
      "“\u001b[1m\u001b[22mReturning more (or less) than 1 row per `summarise()` group was deprecated in\n",
      "dplyr 1.1.0.\n",
      "\u001b[36mℹ\u001b[39m Please use `reframe()` instead.\n",
      "\u001b[36mℹ\u001b[39m When switching from `summarise()` to `reframe()`, remember that `reframe()`\n",
      "  always returns an ungrouped data frame and adjust accordingly.”\n",
      "\u001b[1m\u001b[22m`summarise()` has grouped output by 'asin'. You can override using the\n",
      "`.groups` argument.\n"
     ]
    },
    {
     "data": {
      "text/html": [
       "<table class=\"dataframe\">\n",
       "<caption>A grouped_df: 6 × 5</caption>\n",
       "<thead>\n",
       "\t<tr><th scope=col>asin</th><th scope=col>product_avg_ratings</th><th scope=col>price</th><th scope=col>main_cat</th><th scope=col>rank</th></tr>\n",
       "\t<tr><th scope=col>&lt;chr&gt;</th><th scope=col>&lt;dbl&gt;</th><th scope=col>&lt;dbl&gt;</th><th scope=col>&lt;fct&gt;</th><th scope=col>&lt;dbl&gt;</th></tr>\n",
       "</thead>\n",
       "<tbody>\n",
       "\t<tr><td>6546546450</td><td>2.5</td><td>   NA</td><td>All Beauty</td><td>2938573</td></tr>\n",
       "\t<tr><td>6546546450</td><td>2.5</td><td>   NA</td><td>All Beauty</td><td>2938573</td></tr>\n",
       "\t<tr><td>7178680776</td><td>3.0</td><td>44.99</td><td>All Beauty</td><td> 872854</td></tr>\n",
       "\t<tr><td>7250468162</td><td>5.0</td><td>28.76</td><td>All Beauty</td><td> 956696</td></tr>\n",
       "\t<tr><td>7367905066</td><td>5.0</td><td>   NA</td><td>All Beauty</td><td>1870258</td></tr>\n",
       "\t<tr><td>7414204790</td><td>4.4</td><td>12.15</td><td>All Beauty</td><td>  67701</td></tr>\n",
       "</tbody>\n",
       "</table>\n"
      ],
      "text/latex": [
       "A grouped\\_df: 6 × 5\n",
       "\\begin{tabular}{lllll}\n",
       " asin & product\\_avg\\_ratings & price & main\\_cat & rank\\\\\n",
       " <chr> & <dbl> & <dbl> & <fct> & <dbl>\\\\\n",
       "\\hline\n",
       "\t 6546546450 & 2.5 &    NA & All Beauty & 2938573\\\\\n",
       "\t 6546546450 & 2.5 &    NA & All Beauty & 2938573\\\\\n",
       "\t 7178680776 & 3.0 & 44.99 & All Beauty &  872854\\\\\n",
       "\t 7250468162 & 5.0 & 28.76 & All Beauty &  956696\\\\\n",
       "\t 7367905066 & 5.0 &    NA & All Beauty & 1870258\\\\\n",
       "\t 7414204790 & 4.4 & 12.15 & All Beauty &   67701\\\\\n",
       "\\end{tabular}\n"
      ],
      "text/markdown": [
       "\n",
       "A grouped_df: 6 × 5\n",
       "\n",
       "| asin &lt;chr&gt; | product_avg_ratings &lt;dbl&gt; | price &lt;dbl&gt; | main_cat &lt;fct&gt; | rank &lt;dbl&gt; |\n",
       "|---|---|---|---|---|\n",
       "| 6546546450 | 2.5 |    NA | All Beauty | 2938573 |\n",
       "| 6546546450 | 2.5 |    NA | All Beauty | 2938573 |\n",
       "| 7178680776 | 3.0 | 44.99 | All Beauty |  872854 |\n",
       "| 7250468162 | 5.0 | 28.76 | All Beauty |  956696 |\n",
       "| 7367905066 | 5.0 |    NA | All Beauty | 1870258 |\n",
       "| 7414204790 | 4.4 | 12.15 | All Beauty |   67701 |\n",
       "\n"
      ],
      "text/plain": [
       "  asin       product_avg_ratings price main_cat   rank   \n",
       "1 6546546450 2.5                    NA All Beauty 2938573\n",
       "2 6546546450 2.5                    NA All Beauty 2938573\n",
       "3 7178680776 3.0                 44.99 All Beauty  872854\n",
       "4 7250468162 5.0                 28.76 All Beauty  956696\n",
       "5 7367905066 5.0                    NA All Beauty 1870258\n",
       "6 7414204790 4.4                 12.15 All Beauty   67701"
      ]
     },
     "metadata": {},
     "output_type": "display_data"
    }
   ],
   "source": [
    "amazon_data <- amazon_data %>%\n",
    "        mutate(main_cat = as.factor(main_cat))%>%\n",
    "        mutate(price =substr(price, 2, nchar(price)))%>%\n",
    "        mutate(price = as.numeric(price))%>%\n",
    "        mutate(rank= parse_number(rank))%>%\n",
    "        group_by(asin)%>%\n",
    "        summarize(product_avg_ratings = mean(overall), price = price, main_cat = main_cat, rank=rank)\n",
    "head(amazon_data)"
   ]
  },
  {
   "cell_type": "markdown",
   "id": "0a422ed0-11ee-46df-b278-f00cae72c375",
   "metadata": {},
   "source": [
    "## Statistics Summary"
   ]
  },
  {
   "cell_type": "code",
   "execution_count": null,
   "id": "8a08fb5a-bb77-4164-a6d3-e67423be7f9e",
   "metadata": {},
   "outputs": [],
   "source": []
  },
  {
   "cell_type": "markdown",
   "id": "633a2420-fad0-4b82-9d3e-ea8286fa1803",
   "metadata": {},
   "source": [
    "## Data Cleaning"
   ]
  },
  {
   "cell_type": "markdown",
   "id": "862878c9-1f65-4104-83d1-c8bda666024f",
   "metadata": {},
   "source": [
    "We will drop the missing values below and remove duplicate rows for the products."
   ]
  },
  {
   "cell_type": "code",
   "execution_count": 67,
   "id": "0f0c4499-eb31-4c20-852d-05deb6fbdeec",
   "metadata": {},
   "outputs": [
    {
     "data": {
      "text/html": [
       "<table class=\"dataframe\">\n",
       "<caption>A grouped_df: 0 × 8</caption>\n",
       "<thead>\n",
       "\t<tr><th scope=col>asin</th><th scope=col>product_avg_ratings</th><th scope=col>price</th><th scope=col>main_cat</th><th scope=col>rank</th><th scope=col>logprice</th><th scope=col>pct_rank</th><th scope=col>interaction</th></tr>\n",
       "\t<tr><th scope=col>&lt;chr&gt;</th><th scope=col>&lt;dbl&gt;</th><th scope=col>&lt;dbl&gt;</th><th scope=col>&lt;fct&gt;</th><th scope=col>&lt;dbl&gt;</th><th scope=col>&lt;dbl&gt;</th><th scope=col>&lt;dbl&gt;</th><th scope=col>&lt;lgl&gt;</th></tr>\n",
       "</thead>\n",
       "<tbody>\n",
       "</tbody>\n",
       "</table>\n"
      ],
      "text/latex": [
       "A grouped\\_df: 0 × 8\n",
       "\\begin{tabular}{llllllll}\n",
       " asin & product\\_avg\\_ratings & price & main\\_cat & rank & logprice & pct\\_rank & interaction\\\\\n",
       " <chr> & <dbl> & <dbl> & <fct> & <dbl> & <dbl> & <dbl> & <lgl>\\\\\n",
       "\\hline\n",
       "\\end{tabular}\n"
      ],
      "text/markdown": [
       "\n",
       "A grouped_df: 0 × 8\n",
       "\n",
       "| asin &lt;chr&gt; | product_avg_ratings &lt;dbl&gt; | price &lt;dbl&gt; | main_cat &lt;fct&gt; | rank &lt;dbl&gt; | logprice &lt;dbl&gt; | pct_rank &lt;dbl&gt; | interaction &lt;lgl&gt; |\n",
       "|---|---|---|---|---|---|---|---|\n",
       "\n"
      ],
      "text/plain": [
       "     asin product_avg_ratings price main_cat rank logprice pct_rank interaction"
      ]
     },
     "metadata": {},
     "output_type": "display_data"
    }
   ],
   "source": [
    "amazon_data <- amazon_data %>%\n",
    "        drop_na()%>%\n",
    "        distinct(asin, .keep_all=TRUE)\n",
    "head(amazon_data)"
   ]
  },
  {
   "cell_type": "markdown",
   "id": "449c9f77-a5a9-4647-8146-86e5ffdd3ac7",
   "metadata": {},
   "source": [
    "Moreover, since the main category is a categorical variable with 2 values \"All Beauty\" and \"Luxury Beauty\", we will encode it as a dummy variable where 0 represents \"All Beauty\" and 1 represents \"Luxury Beauty.\""
   ]
  },
  {
   "cell_type": "code",
   "execution_count": 64,
   "id": "1b808dc4-40fe-424a-9046-9ab8762be07c",
   "metadata": {},
   "outputs": [
    {
     "name": "stdout",
     "output_type": "stream",
     "text": [
      "coded 1 cols \n"
     ]
    },
    {
     "data": {
      "text/html": [
       "<table class=\"dataframe\">\n",
       "<caption>A grouped_df: 6 × 8</caption>\n",
       "<thead>\n",
       "\t<tr><th scope=col>asin</th><th scope=col>product_avg_ratings</th><th scope=col>price</th><th scope=col>main_cat</th><th scope=col>rank</th><th scope=col>logprice</th><th scope=col>pct_rank</th><th scope=col>interaction</th></tr>\n",
       "\t<tr><th scope=col>&lt;chr&gt;</th><th scope=col>&lt;dbl&gt;</th><th scope=col>&lt;dbl&gt;</th><th scope=col>&lt;fct&gt;</th><th scope=col>&lt;dbl&gt;</th><th scope=col>&lt;dbl&gt;</th><th scope=col>&lt;dbl&gt;</th><th scope=col>&lt;lgl&gt;</th></tr>\n",
       "</thead>\n",
       "<tbody>\n",
       "\t<tr><td>7178680776</td><td>3.00000</td><td>44.99</td><td>0</td><td> 872854</td><td>3.806440</td><td>0.9085960</td><td>NA</td></tr>\n",
       "\t<tr><td>7250468162</td><td>5.00000</td><td>28.76</td><td>0</td><td> 956696</td><td>3.358986</td><td>0.8998162</td><td>NA</td></tr>\n",
       "\t<tr><td>7414204790</td><td>4.40000</td><td>12.15</td><td>0</td><td>  67701</td><td>2.497329</td><td>0.9929104</td><td>NA</td></tr>\n",
       "\t<tr><td>8921463194</td><td>1.00000</td><td>24.99</td><td>0</td><td>1676787</td><td>3.218476</td><td>0.8244093</td><td>NA</td></tr>\n",
       "\t<tr><td>9752980953</td><td>1.00000</td><td>21.95</td><td>0</td><td>2325042</td><td>3.088767</td><td>0.7565250</td><td>NA</td></tr>\n",
       "\t<tr><td>9790787006</td><td>4.22807</td><td>13.85</td><td>0</td><td> 298893</td><td>2.628285</td><td>0.9687004</td><td>NA</td></tr>\n",
       "</tbody>\n",
       "</table>\n"
      ],
      "text/latex": [
       "A grouped\\_df: 6 × 8\n",
       "\\begin{tabular}{llllllll}\n",
       " asin & product\\_avg\\_ratings & price & main\\_cat & rank & logprice & pct\\_rank & interaction\\\\\n",
       " <chr> & <dbl> & <dbl> & <fct> & <dbl> & <dbl> & <dbl> & <lgl>\\\\\n",
       "\\hline\n",
       "\t 7178680776 & 3.00000 & 44.99 & 0 &  872854 & 3.806440 & 0.9085960 & NA\\\\\n",
       "\t 7250468162 & 5.00000 & 28.76 & 0 &  956696 & 3.358986 & 0.8998162 & NA\\\\\n",
       "\t 7414204790 & 4.40000 & 12.15 & 0 &   67701 & 2.497329 & 0.9929104 & NA\\\\\n",
       "\t 8921463194 & 1.00000 & 24.99 & 0 & 1676787 & 3.218476 & 0.8244093 & NA\\\\\n",
       "\t 9752980953 & 1.00000 & 21.95 & 0 & 2325042 & 3.088767 & 0.7565250 & NA\\\\\n",
       "\t 9790787006 & 4.22807 & 13.85 & 0 &  298893 & 2.628285 & 0.9687004 & NA\\\\\n",
       "\\end{tabular}\n"
      ],
      "text/markdown": [
       "\n",
       "A grouped_df: 6 × 8\n",
       "\n",
       "| asin &lt;chr&gt; | product_avg_ratings &lt;dbl&gt; | price &lt;dbl&gt; | main_cat &lt;fct&gt; | rank &lt;dbl&gt; | logprice &lt;dbl&gt; | pct_rank &lt;dbl&gt; | interaction &lt;lgl&gt; |\n",
       "|---|---|---|---|---|---|---|---|\n",
       "| 7178680776 | 3.00000 | 44.99 | 0 |  872854 | 3.806440 | 0.9085960 | NA |\n",
       "| 7250468162 | 5.00000 | 28.76 | 0 |  956696 | 3.358986 | 0.8998162 | NA |\n",
       "| 7414204790 | 4.40000 | 12.15 | 0 |   67701 | 2.497329 | 0.9929104 | NA |\n",
       "| 8921463194 | 1.00000 | 24.99 | 0 | 1676787 | 3.218476 | 0.8244093 | NA |\n",
       "| 9752980953 | 1.00000 | 21.95 | 0 | 2325042 | 3.088767 | 0.7565250 | NA |\n",
       "| 9790787006 | 4.22807 | 13.85 | 0 |  298893 | 2.628285 | 0.9687004 | NA |\n",
       "\n"
      ],
      "text/plain": [
       "  asin       product_avg_ratings price main_cat rank    logprice pct_rank \n",
       "1 7178680776 3.00000             44.99 0         872854 3.806440 0.9085960\n",
       "2 7250468162 5.00000             28.76 0         956696 3.358986 0.8998162\n",
       "3 7414204790 4.40000             12.15 0          67701 2.497329 0.9929104\n",
       "4 8921463194 1.00000             24.99 0        1676787 3.218476 0.8244093\n",
       "5 9752980953 1.00000             21.95 0        2325042 3.088767 0.7565250\n",
       "6 9790787006 4.22807             13.85 0         298893 2.628285 0.9687004\n",
       "  interaction\n",
       "1 NA         \n",
       "2 NA         \n",
       "3 NA         \n",
       "4 NA         \n",
       "5 NA         \n",
       "6 NA         "
      ]
     },
     "metadata": {},
     "output_type": "display_data"
    }
   ],
   "source": [
    "amazon_data['main_cat'] <- encode_binary(data.frame(amazon_data['main_cat']), full_print=FALSE)\n",
    "head(amazon_data)"
   ]
  },
  {
   "cell_type": "code",
   "execution_count": 4,
   "id": "655f12c7-16fc-4bbc-a6af-54479b3bceb0",
   "metadata": {},
   "outputs": [
    {
     "name": "stderr",
     "output_type": "stream",
     "text": [
      "Parsed with column specification:\n",
      "cols(\n",
      "  asin = \u001b[31mcol_character()\u001b[39m,\n",
      "  product_avg_ratings = \u001b[32mcol_double()\u001b[39m,\n",
      "  price = \u001b[32mcol_double()\u001b[39m,\n",
      "  main_cat = \u001b[32mcol_double()\u001b[39m,\n",
      "  rank = \u001b[32mcol_double()\u001b[39m\n",
      ")\n",
      "\n"
     ]
    }
   ],
   "source": [
    "urlfile=\"https://raw.githubusercontent.com/anhndq01/ECON-326-Project/main/data/cleaned_dataset.csv\"\n",
    "amazon_data<-read_csv(url(urlfile))"
   ]
  },
  {
   "cell_type": "markdown",
   "id": "13e0df5c-8a8a-4756-90a1-cc126eef61bd",
   "metadata": {},
   "source": [
    "Finally, we will add a new columns in which we transform our variables to be used in the model. We will add the column for the natural log of price, a column for percentage rank and a column for the interaction term between log(price) and the main category. Specifically, for the rank, we need to transform it because the values of the rank are on a much larger scale than our dependent variable. Therefore, if we do not transform it, the coefficients on the ranking will be extremely small due to the nature of the scale, which is difficult to interpret."
   ]
  },
  {
   "cell_type": "code",
   "execution_count": 5,
   "id": "3e55e0b7-f4fb-4477-a440-dd286798e863",
   "metadata": {},
   "outputs": [
    {
     "data": {
      "text/html": [
       "<table>\n",
       "<thead><tr><th scope=col>asin</th><th scope=col>product_avg_ratings</th><th scope=col>price</th><th scope=col>main_cat</th><th scope=col>rank</th><th scope=col>logprice</th><th scope=col>pct_rank</th><th scope=col>interaction</th></tr></thead>\n",
       "<tbody>\n",
       "\t<tr><td>7178680776</td><td>3.00000   </td><td>44.99     </td><td>0         </td><td> 872854   </td><td>3.806440  </td><td>0.9085960 </td><td>0         </td></tr>\n",
       "\t<tr><td>7250468162</td><td>5.00000   </td><td>28.76     </td><td>0         </td><td> 956696   </td><td>3.358986  </td><td>0.8998162 </td><td>0         </td></tr>\n",
       "\t<tr><td>7414204790</td><td>4.40000   </td><td>12.15     </td><td>0         </td><td>  67701   </td><td>2.497329  </td><td>0.9929104 </td><td>0         </td></tr>\n",
       "\t<tr><td>8921463194</td><td>1.00000   </td><td>24.99     </td><td>0         </td><td>1676787   </td><td>3.218476  </td><td>0.8244093 </td><td>0         </td></tr>\n",
       "\t<tr><td>9752980953</td><td>1.00000   </td><td>21.95     </td><td>0         </td><td>2325042   </td><td>3.088767  </td><td>0.7565250 </td><td>0         </td></tr>\n",
       "\t<tr><td>9790787006</td><td>4.22807   </td><td>13.85     </td><td>0         </td><td> 298893   </td><td>2.628285  </td><td>0.9687004 </td><td>0         </td></tr>\n",
       "</tbody>\n",
       "</table>\n"
      ],
      "text/latex": [
       "\\begin{tabular}{r|llllllll}\n",
       " asin & product\\_avg\\_ratings & price & main\\_cat & rank & logprice & pct\\_rank & interaction\\\\\n",
       "\\hline\n",
       "\t 7178680776 & 3.00000    & 44.99      & 0          &  872854    & 3.806440   & 0.9085960  & 0         \\\\\n",
       "\t 7250468162 & 5.00000    & 28.76      & 0          &  956696    & 3.358986   & 0.8998162  & 0         \\\\\n",
       "\t 7414204790 & 4.40000    & 12.15      & 0          &   67701    & 2.497329   & 0.9929104  & 0         \\\\\n",
       "\t 8921463194 & 1.00000    & 24.99      & 0          & 1676787    & 3.218476   & 0.8244093  & 0         \\\\\n",
       "\t 9752980953 & 1.00000    & 21.95      & 0          & 2325042    & 3.088767   & 0.7565250  & 0         \\\\\n",
       "\t 9790787006 & 4.22807    & 13.85      & 0          &  298893    & 2.628285   & 0.9687004  & 0         \\\\\n",
       "\\end{tabular}\n"
      ],
      "text/markdown": [
       "\n",
       "| asin | product_avg_ratings | price | main_cat | rank | logprice | pct_rank | interaction |\n",
       "|---|---|---|---|---|---|---|---|\n",
       "| 7178680776 | 3.00000    | 44.99      | 0          |  872854    | 3.806440   | 0.9085960  | 0          |\n",
       "| 7250468162 | 5.00000    | 28.76      | 0          |  956696    | 3.358986   | 0.8998162  | 0          |\n",
       "| 7414204790 | 4.40000    | 12.15      | 0          |   67701    | 2.497329   | 0.9929104  | 0          |\n",
       "| 8921463194 | 1.00000    | 24.99      | 0          | 1676787    | 3.218476   | 0.8244093  | 0          |\n",
       "| 9752980953 | 1.00000    | 21.95      | 0          | 2325042    | 3.088767   | 0.7565250  | 0          |\n",
       "| 9790787006 | 4.22807    | 13.85      | 0          |  298893    | 2.628285   | 0.9687004  | 0          |\n",
       "\n"
      ],
      "text/plain": [
       "  asin       product_avg_ratings price main_cat rank    logprice pct_rank \n",
       "1 7178680776 3.00000             44.99 0         872854 3.806440 0.9085960\n",
       "2 7250468162 5.00000             28.76 0         956696 3.358986 0.8998162\n",
       "3 7414204790 4.40000             12.15 0          67701 2.497329 0.9929104\n",
       "4 8921463194 1.00000             24.99 0        1676787 3.218476 0.8244093\n",
       "5 9752980953 1.00000             21.95 0        2325042 3.088767 0.7565250\n",
       "6 9790787006 4.22807             13.85 0         298893 2.628285 0.9687004\n",
       "  interaction\n",
       "1 0          \n",
       "2 0          \n",
       "3 0          \n",
       "4 0          \n",
       "5 0          \n",
       "6 0          "
      ]
     },
     "metadata": {},
     "output_type": "display_data"
    }
   ],
   "source": [
    "amazon_data <- amazon_data %>%\n",
    "                mutate(logprice=log(price), pct_rank = 1-rank/max(amazon_data$rank))%>%\n",
    "                mutate(interaction = logprice*main_cat) #this will be used for the VIF test, not the regression\n",
    "head(amazon_data)"
   ]
  },
  {
   "cell_type": "markdown",
   "id": "4683213b-911d-44d4-be8a-5264c2ebc000",
   "metadata": {},
   "source": [
    "## Model"
   ]
  },
  {
   "cell_type": "code",
   "execution_count": 6,
   "id": "866b5a47-44b1-435b-a54f-d4a181ece754",
   "metadata": {},
   "outputs": [
    {
     "name": "stdout",
     "output_type": "stream",
     "text": [
      "\n",
      "Comparison of Regression Results\n",
      "========================================================================================================================================================\n",
      "                                                                            Dependent variable:                                                         \n",
      "                    ------------------------------------------------------------------------------------------------------------------------------------\n",
      "                                                                            product_avg_ratings                                                         \n",
      "                               (1)                        (2)                       (3)                       (4)                        (5)            \n",
      "--------------------------------------------------------------------------------------------------------------------------------------------------------\n",
      "logprice                     0.094***                  0.101***                  0.138***                   0.113***                   0.151***         \n",
      "                             (0.007)                    (0.008)                   (0.009)                   (0.008)                    (0.009)          \n",
      "                                                                                                                                                        \n",
      "main_cat                                               -0.043***                 0.389***                  -0.181***                   0.260***         \n",
      "                                                        (0.015)                   (0.058)                   (0.017)                    (0.058)          \n",
      "                                                                                                                                                        \n",
      "logprice:main_cat                                                                -0.131***                                            -0.134***         \n",
      "                                                                                  (0.017)                                              (0.017)          \n",
      "                                                                                                                                                        \n",
      "pct_rank                                                                                                    1.993***                   2.001***         \n",
      "                                                                                                            (0.117)                    (0.117)          \n",
      "                                                                                                                                                        \n",
      "Constant                     3.854***                  3.847***                  3.745***                   1.999***                   1.886***         \n",
      "                             (0.023)                    (0.023)                   (0.027)                   (0.111)                    (0.111)          \n",
      "                                                                                                                                                        \n",
      "--------------------------------------------------------------------------------------------------------------------------------------------------------\n",
      "Observations                  17,936                    17,936                    17,936                     17,936                     17,936          \n",
      "R2                            0.009                      0.010                     0.013                     0.026                      0.029           \n",
      "Adjusted R2                   0.009                      0.010                     0.013                     0.025                      0.029           \n",
      "Residual Std. Error     0.917 (df = 17934)        0.917 (df = 17933)        0.916 (df = 17932)         0.910 (df = 17932)         0.908 (df = 17931)    \n",
      "F Statistic         169.168*** (df = 1; 17934) 88.768*** (df = 2; 17933) 78.965*** (df = 3; 17932) 157.291*** (df = 3; 17932) 133.937*** (df = 4; 17931)\n",
      "========================================================================================================================================================\n",
      "Note:                                                                                                                        *p<0.1; **p<0.05; ***p<0.01\n"
     ]
    }
   ],
   "source": [
    "regA<-lm(data=amazon_data,product_avg_ratings~logprice)\n",
    "regB<-lm(data=amazon_data,product_avg_ratings~logprice+main_cat)\n",
    "regC<-lm(data=amazon_data,product_avg_ratings~logprice+main_cat+logprice:main_cat)\n",
    "regD<-lm(data=amazon_data,product_avg_ratings~logprice+main_cat+pct_rank)\n",
    "regE<-lm(data=amazon_data,product_avg_ratings~logprice+main_cat+logprice:main_cat+pct_rank)\n",
    "stargazer(regA, regB, regC,regD,regE, title=\"Comparison of Regression Results\",\n",
    "          align = TRUE, type=\"text\")"
   ]
  },
  {
   "cell_type": "markdown",
   "id": "0f0827e1-ed90-4c57-9ce0-ea1c974e66a3",
   "metadata": {},
   "source": [
    "## Specification Check"
   ]
  },
  {
   "cell_type": "markdown",
   "id": "6da57b8d-c956-4bf0-9dfb-dd8f362ff215",
   "metadata": {},
   "source": [
    "### 1. VIF test on different regressions"
   ]
  },
  {
   "cell_type": "code",
   "execution_count": 7,
   "id": "82af6d9e-1617-47da-ae20-2be2cc973061",
   "metadata": {},
   "outputs": [
    {
     "data": {
      "text/html": [
       "<dl class=dl-horizontal>\n",
       "\t<dt>logprice</dt>\n",
       "\t\t<dd>1.13784483155046</dd>\n",
       "\t<dt>main_cat</dt>\n",
       "\t\t<dd>1.13784483155046</dd>\n",
       "</dl>\n"
      ],
      "text/latex": [
       "\\begin{description*}\n",
       "\\item[logprice] 1.13784483155046\n",
       "\\item[main\\textbackslash{}\\_cat] 1.13784483155046\n",
       "\\end{description*}\n"
      ],
      "text/markdown": [
       "logprice\n",
       ":   1.13784483155046main_cat\n",
       ":   1.13784483155046\n",
       "\n"
      ],
      "text/plain": [
       "logprice main_cat \n",
       "1.137845 1.137845 "
      ]
     },
     "metadata": {},
     "output_type": "display_data"
    }
   ],
   "source": [
    "vif(regB, type = \"terms\")"
   ]
  },
  {
   "cell_type": "code",
   "execution_count": 8,
   "id": "4805f198-a2b8-4272-b1f1-d721695fcf5c",
   "metadata": {},
   "outputs": [
    {
     "data": {
      "text/html": [
       "<dl class=dl-horizontal>\n",
       "\t<dt>logprice</dt>\n",
       "\t\t<dd>1.57768836570063</dd>\n",
       "\t<dt>main_cat</dt>\n",
       "\t\t<dd>17.1916865310952</dd>\n",
       "\t<dt>logprice:main_cat</dt>\n",
       "\t\t<dd>19.3434747457924</dd>\n",
       "</dl>\n"
      ],
      "text/latex": [
       "\\begin{description*}\n",
       "\\item[logprice] 1.57768836570063\n",
       "\\item[main\\textbackslash{}\\_cat] 17.1916865310952\n",
       "\\item[logprice:main\\textbackslash{}\\_cat] 19.3434747457924\n",
       "\\end{description*}\n"
      ],
      "text/markdown": [
       "logprice\n",
       ":   1.57768836570063main_cat\n",
       ":   17.1916865310952logprice:main_cat\n",
       ":   19.3434747457924\n",
       "\n"
      ],
      "text/plain": [
       "         logprice          main_cat logprice:main_cat \n",
       "         1.577688         17.191687         19.343475 "
      ]
     },
     "metadata": {},
     "output_type": "display_data"
    }
   ],
   "source": [
    "vif(regC, type = \"terms\")"
   ]
  },
  {
   "cell_type": "code",
   "execution_count": 9,
   "id": "f7a68aef-3c62-4824-8afb-2e39ba13f6ec",
   "metadata": {},
   "outputs": [
    {
     "data": {
      "text/html": [
       "<dl class=dl-horizontal>\n",
       "\t<dt>logprice</dt>\n",
       "\t\t<dd>1.14773679369207</dd>\n",
       "\t<dt>main_cat</dt>\n",
       "\t\t<dd>1.46774326726396</dd>\n",
       "\t<dt>pct_rank</dt>\n",
       "\t\t<dd>1.30002410838876</dd>\n",
       "</dl>\n"
      ],
      "text/latex": [
       "\\begin{description*}\n",
       "\\item[logprice] 1.14773679369207\n",
       "\\item[main\\textbackslash{}\\_cat] 1.46774326726396\n",
       "\\item[pct\\textbackslash{}\\_rank] 1.30002410838876\n",
       "\\end{description*}\n"
      ],
      "text/markdown": [
       "logprice\n",
       ":   1.14773679369207main_cat\n",
       ":   1.46774326726396pct_rank\n",
       ":   1.30002410838876\n",
       "\n"
      ],
      "text/plain": [
       "logprice main_cat pct_rank \n",
       "1.147737 1.467743 1.300024 "
      ]
     },
     "metadata": {},
     "output_type": "display_data"
    }
   ],
   "source": [
    "vif(regD, type = \"terms\")"
   ]
  },
  {
   "cell_type": "code",
   "execution_count": 10,
   "id": "3f2e3e97-d180-439d-b475-a8124441a4fe",
   "metadata": {},
   "outputs": [
    {
     "data": {
      "text/html": [
       "<dl class=dl-horizontal>\n",
       "\t<dt>logprice</dt>\n",
       "\t\t<dd>1.58885850230722</dd>\n",
       "\t<dt>main_cat</dt>\n",
       "\t\t<dd>17.4798174960712</dd>\n",
       "\t<dt>pct_rank</dt>\n",
       "\t\t<dd>1.30013868369706</dd>\n",
       "\t<dt>logprice:main_cat</dt>\n",
       "\t\t<dd>19.345179548471</dd>\n",
       "</dl>\n"
      ],
      "text/latex": [
       "\\begin{description*}\n",
       "\\item[logprice] 1.58885850230722\n",
       "\\item[main\\textbackslash{}\\_cat] 17.4798174960712\n",
       "\\item[pct\\textbackslash{}\\_rank] 1.30013868369706\n",
       "\\item[logprice:main\\textbackslash{}\\_cat] 19.345179548471\n",
       "\\end{description*}\n"
      ],
      "text/markdown": [
       "logprice\n",
       ":   1.58885850230722main_cat\n",
       ":   17.4798174960712pct_rank\n",
       ":   1.30013868369706logprice:main_cat\n",
       ":   19.345179548471\n",
       "\n"
      ],
      "text/plain": [
       "         logprice          main_cat          pct_rank logprice:main_cat \n",
       "         1.588859         17.479817          1.300139         19.345180 "
      ]
     },
     "metadata": {},
     "output_type": "display_data"
    }
   ],
   "source": [
    "vif(regE, type = \"terms\")"
   ]
  },
  {
   "cell_type": "code",
   "execution_count": 12,
   "id": "890e7ae3-dcb8-46fe-b951-dbdc872c4aca",
   "metadata": {},
   "outputs": [
    {
     "data": {
      "text/html": [
       "13.9507099388114"
      ],
      "text/latex": [
       "13.9507099388114"
      ],
      "text/markdown": [
       "13.9507099388114"
      ],
      "text/plain": [
       "[1] 13.95071"
      ]
     },
     "metadata": {},
     "output_type": "display_data"
    }
   ],
   "source": [
    "#from the above analysis, we can see that \"logprice:main_cat\" and \"main_cat\" are highly collinear, this can be further verified as follows:\n",
    "vif_int_on_cat <- lm(interaction ~ main_cat, data = amazon_data)\n",
    "\n",
    "r_2_cat <- summary(vif_int_on_cat)$r.squared\n",
    "\n",
    "1/(1-r_2_cat)"
   ]
  },
  {
   "cell_type": "code",
   "execution_count": 13,
   "id": "143b568e-6718-4447-920d-b8b359ac00fe",
   "metadata": {},
   "outputs": [
    {
     "data": {
      "text/html": [
       "19.3451795484711"
      ],
      "text/latex": [
       "19.3451795484711"
      ],
      "text/markdown": [
       "19.3451795484711"
      ],
      "text/plain": [
       "[1] 19.34518"
      ]
     },
     "metadata": {},
     "output_type": "display_data"
    }
   ],
   "source": [
    "vif_int_on_all<-lm( interaction ~ logprice+main_cat+pct_rank, data = amazon_data)\n",
    "\n",
    "r_2_all <- summary(vif_int_on_all)$r.squared\n",
    "\n",
    "1/(1-r_2_all)"
   ]
  },
  {
   "cell_type": "code",
   "execution_count": 14,
   "id": "c2644360-6897-4b28-a3c9-004d213154ae",
   "metadata": {},
   "outputs": [
    {
     "data": {
      "image/png": "[encoded data removed]",
      "text/plain": [
       "plot without title"
      ]
     },
     "metadata": {
      "image/png": {
       "height": 420,
       "width": 420
      }
     },
     "output_type": "display_data"
    },
    {
     "data": {
      "image/png": "[encoded data removed]",
      "text/plain": [
       "plot without title"
      ]
     },
     "metadata": {
      "image/png": {
       "height": 420,
       "width": 420
      }
     },
     "output_type": "display_data"
    },
    {
     "data": {
      "image/png": "[encoded data removed]",
      "text/plain": [
       "plot without title"
      ]
     },
     "metadata": {
      "image/png": {
       "height": 420,
       "width": 420
      }
     },
     "output_type": "display_data"
    },
    {
     "data": {
      "image/png": "[encoded data removed]",
      "text/plain": [
       "plot without title"
      ]
     },
     "metadata": {
      "image/png": {
       "height": 420,
       "width": 420
      }
     },
     "output_type": "display_data"
    },
    {
     "data": {
      "image/png": "[encoded data removed]",
      "text/plain": [
       "plot without title"
      ]
     },
     "metadata": {
      "image/png": {
       "height": 420,
       "width": 420
      }
     },
     "output_type": "display_data"
    }
   ],
   "source": [
    "#Thus, the majority of collinearity comes from interaction and main_cat\n",
    "# Now we proceed to check if our assumption of homoskedasticity holds, we can plot to see the trend of residuals\n",
    "ggplot(data =cbind(amazon_data, regA$residuals), aes(x = as.numeric(amazon_data$logprice), y = as.numeric(regA$residuals))) + geom_point() + labs(x = \"logprice\", y = \"ResidualsA\")\n",
    "ggplot(data =cbind(amazon_data, regB$residuals), aes(x = as.numeric(amazon_data$logprice), y = as.numeric(regB$residuals))) + geom_point() + labs(x = \"logprice\", y = \"ResidualsB\")\n",
    "ggplot(data =cbind(amazon_data, regC$residuals), aes(x = as.numeric(amazon_data$logprice), y = as.numeric(regC$residuals))) + geom_point() + labs(x = \"logprice\", y = \"ResidualsC\")\n",
    "ggplot(data =cbind(amazon_data, regD$residuals), aes(x = as.numeric(amazon_data$logprice), y = as.numeric(regD$residuals))) + geom_point() + labs(x = \"logprice\", y = \"ResidualsD\")\n",
    "ggplot(data =cbind(amazon_data, regE$residuals), aes(x = as.numeric(amazon_data$logprice), y = as.numeric(regE$residuals))) + geom_point() + labs(x = \"logprice\", y = \"ResidualsE\")"
   ]
  },
  {
   "cell_type": "markdown",
   "id": "3c1f0cf3-64f4-4532-b156-75fc9ead6a78",
   "metadata": {},
   "source": [
    "### 2. White's Test\n",
    "Although the means are roughly zero (which is good), but the residuals are definitely not homoskedastic. Here we'll employ the White's test to show the heteroskedasticity"
   ]
  },
  {
   "cell_type": "code",
   "execution_count": 15,
   "id": "428b5295-8cf2-4e97-8151-5a6fdf43bd79",
   "metadata": {},
   "outputs": [
    {
     "data": {
      "text/plain": [
       "\n",
       "Call:\n",
       "lm(formula = res_sqA ~ y_hatA + I(y_hatA^2))\n",
       "\n",
       "Residuals:\n",
       "    Min      1Q  Median      3Q     Max \n",
       "-4.7111 -0.7402 -0.4957 -0.0512 10.8447 \n",
       "\n",
       "Coefficients:\n",
       "            Estimate Std. Error t value Pr(>|t|)    \n",
       "(Intercept) 111.3903    15.4928   7.190 6.74e-13 ***\n",
       "y_hatA      -52.3915     7.4875  -6.997 2.70e-12 ***\n",
       "I(y_hatA^2)   6.2023     0.9046   6.856 7.30e-12 ***\n",
       "---\n",
       "Signif. codes:  0 '***' 0.001 '**' 0.01 '*' 0.05 '.' 0.1 ' ' 1\n",
       "\n",
       "Residual standard error: 1.801 on 17933 degrees of freedom\n",
       "Multiple R-squared:  0.00537,\tAdjusted R-squared:  0.005259 \n",
       "F-statistic: 48.41 on 2 and 17933 DF,  p-value: < 2.2e-16\n"
      ]
     },
     "metadata": {},
     "output_type": "display_data"
    }
   ],
   "source": [
    "y_hatA <- predict(regA)\n",
    "res_sqA <- regA$residuals^2\n",
    "white_A <- lm(res_sqA ~ y_hatA + I(y_hatA^2))\n",
    "summary(white_A)"
   ]
  },
  {
   "cell_type": "code",
   "execution_count": 16,
   "id": "f293fb05-30af-40e2-bdc6-dbf12e501909",
   "metadata": {},
   "outputs": [
    {
     "data": {
      "text/plain": [
       "\n",
       "Call:\n",
       "lm(formula = res_sqB ~ y_hatB + I(y_hatB^2))\n",
       "\n",
       "Residuals:\n",
       "    Min      1Q  Median      3Q     Max \n",
       "-4.7219 -0.7567 -0.5041 -0.0416 10.7536 \n",
       "\n",
       "Coefficients:\n",
       "            Estimate Std. Error t value Pr(>|t|)    \n",
       "(Intercept) 111.1735    14.1536   7.855 4.23e-15 ***\n",
       "y_hatB      -52.9635     6.8322  -7.752 9.52e-15 ***\n",
       "I(y_hatB^2)   6.3528     0.8245   7.705 1.38e-14 ***\n",
       "---\n",
       "Signif. codes:  0 '***' 0.001 '**' 0.01 '*' 0.05 '.' 0.1 ' ' 1\n",
       "\n",
       "Residual standard error: 1.814 on 17933 degrees of freedom\n",
       "Multiple R-squared:  0.003579,\tAdjusted R-squared:  0.003467 \n",
       "F-statistic:  32.2 on 2 and 17933 DF,  p-value: 1.096e-14\n"
      ]
     },
     "metadata": {},
     "output_type": "display_data"
    }
   ],
   "source": [
    "y_hatB <- predict(regB)\n",
    "res_sqB <- regB$residuals^2\n",
    "white_B <- lm(res_sqB ~ y_hatB + I(y_hatB^2))\n",
    "summary(white_B)"
   ]
  },
  {
   "cell_type": "code",
   "execution_count": 17,
   "id": "b1066647-46cd-40cc-8dd4-bdf0a22ec7d3",
   "metadata": {},
   "outputs": [
    {
     "data": {
      "text/plain": [
       "\n",
       "Call:\n",
       "lm(formula = res_sqC ~ y_hatC + I(y_hatC^2))\n",
       "\n",
       "Residuals:\n",
       "    Min      1Q  Median      3Q     Max \n",
       "-5.9354 -0.7522 -0.5134 -0.0645 11.3998 \n",
       "\n",
       "Coefficients:\n",
       "            Estimate Std. Error t value Pr(>|t|)    \n",
       "(Intercept)  80.6760     7.9325  10.170   <2e-16 ***\n",
       "y_hatC      -38.3319     3.8393  -9.984   <2e-16 ***\n",
       "I(y_hatC^2)   4.5979     0.4648   9.893   <2e-16 ***\n",
       "---\n",
       "Signif. codes:  0 '***' 0.001 '**' 0.01 '*' 0.05 '.' 0.1 ' ' 1\n",
       "\n",
       "Residual standard error: 1.813 on 17933 degrees of freedom\n",
       "Multiple R-squared:  0.005888,\tAdjusted R-squared:  0.005777 \n",
       "F-statistic: 53.11 on 2 and 17933 DF,  p-value: < 2.2e-16\n"
      ]
     },
     "metadata": {},
     "output_type": "display_data"
    }
   ],
   "source": [
    "y_hatC <- predict(regC)\n",
    "res_sqC <- regC$residuals^2\n",
    "white_C <- lm(res_sqC ~ y_hatC + I(y_hatC^2))\n",
    "summary(white_C)"
   ]
  },
  {
   "cell_type": "code",
   "execution_count": 18,
   "id": "5af938cf-a33f-4605-a4f2-c0b3639a2409",
   "metadata": {},
   "outputs": [
    {
     "data": {
      "text/plain": [
       "\n",
       "Call:\n",
       "lm(formula = res_sqD ~ y_hatD + I(y_hatD^2))\n",
       "\n",
       "Residuals:\n",
       "    Min      1Q  Median      3Q     Max \n",
       "-6.2268 -0.6361 -0.3580 -0.0227 12.1638 \n",
       "\n",
       "Coefficients:\n",
       "            Estimate Std. Error t value Pr(>|t|)    \n",
       "(Intercept)  51.0351     4.5651  11.179   <2e-16 ***\n",
       "y_hatD      -21.8419     2.2389  -9.756   <2e-16 ***\n",
       "I(y_hatD^2)   2.3438     0.2745   8.539   <2e-16 ***\n",
       "---\n",
       "Signif. codes:  0 '***' 0.001 '**' 0.01 '*' 0.05 '.' 0.1 ' ' 1\n",
       "\n",
       "Residual standard error: 1.645 on 17933 degrees of freedom\n",
       "Multiple R-squared:  0.06051,\tAdjusted R-squared:  0.0604 \n",
       "F-statistic: 577.5 on 2 and 17933 DF,  p-value: < 2.2e-16\n"
      ]
     },
     "metadata": {},
     "output_type": "display_data"
    }
   ],
   "source": [
    "y_hatD <- predict(regD)\n",
    "res_sqD <- regD$residuals^2\n",
    "white_D <- lm(res_sqD ~ y_hatD + I(y_hatD^2))\n",
    "summary(white_D)"
   ]
  },
  {
   "cell_type": "code",
   "execution_count": 19,
   "id": "6a6ad6d6-7f04-4c24-8d8a-e33c0a60206a",
   "metadata": {},
   "outputs": [
    {
     "data": {
      "text/plain": [
       "\n",
       "Call:\n",
       "lm(formula = res_sqE ~ y_hatE + I(y_hatE^2))\n",
       "\n",
       "Residuals:\n",
       "    Min      1Q  Median      3Q     Max \n",
       "-7.0664 -0.6333 -0.3697 -0.0279 13.1279 \n",
       "\n",
       "Coefficients:\n",
       "            Estimate Std. Error t value Pr(>|t|)    \n",
       "(Intercept)  45.6000     3.6532  12.482   <2e-16 ***\n",
       "y_hatE      -19.4407     1.7923 -10.847   <2e-16 ***\n",
       "I(y_hatE^2)   2.0807     0.2199   9.462   <2e-16 ***\n",
       "---\n",
       "Signif. codes:  0 '***' 0.001 '**' 0.01 '*' 0.05 '.' 0.1 ' ' 1\n",
       "\n",
       "Residual standard error: 1.648 on 17933 degrees of freedom\n",
       "Multiple R-squared:  0.05806,\tAdjusted R-squared:  0.05796 \n",
       "F-statistic: 552.7 on 2 and 17933 DF,  p-value: < 2.2e-16\n"
      ]
     },
     "metadata": {},
     "output_type": "display_data"
    }
   ],
   "source": [
    "y_hatE <- predict(regE)\n",
    "res_sqE <- regE$residuals^2\n",
    "white_E <- lm(res_sqE ~ y_hatE + I(y_hatE^2))\n",
    "summary(white_E)"
   ]
  },
  {
   "cell_type": "code",
   "execution_count": null,
   "id": "9099e394-2cec-4499-9e09-6498b9569dfa",
   "metadata": {},
   "outputs": [],
   "source": [
    "# All five F-statistics are high, meaning the coefficients on y-hat and y-hat^2 are definitely not zero, which is a sign of heteroskedasticity"
   ]
  },
  {
   "cell_type": "code",
   "execution_count": 22,
   "id": "1421ea0a-5a27-447b-b2ae-23b32c8d54b8",
   "metadata": {},
   "outputs": [
    {
     "name": "stdout",
     "output_type": "stream",
     "text": [
      "\n",
      "Robust SE Regression Results\n",
      "========================================================================================================================================================\n",
      "                                                                            Dependent variable:                                                         \n",
      "                    ------------------------------------------------------------------------------------------------------------------------------------\n",
      "                                                                            product_avg_ratings                                                         \n",
      "                               (1)                        (2)                       (3)                       (4)                        (5)            \n",
      "--------------------------------------------------------------------------------------------------------------------------------------------------------\n",
      "logprice                     0.094***                  0.101***                  0.138***                   0.113***                   0.151***         \n",
      "                             (0.008)                    (0.009)                   (0.011)                   (0.009)                    (0.011)          \n",
      "                                                                                                                                                        \n",
      "main_cat                                               -0.043***                 0.389***                  -0.181***                   0.260***         \n",
      "                                                        (0.014)                   (0.054)                   (0.016)                    (0.054)          \n",
      "                                                                                                                                                        \n",
      "logprice:main_cat                                                                -0.131***                                            -0.134***         \n",
      "                                                                                  (0.017)                                              (0.016)          \n",
      "                                                                                                                                                        \n",
      "pct_rank                                                                                                    1.993***                   2.001***         \n",
      "                                                                                                            (0.163)                    (0.163)          \n",
      "                                                                                                                                                        \n",
      "Constant                     3.854***                  3.847***                  3.745***                   1.999***                   1.886***         \n",
      "                             (0.026)                    (0.026)                   (0.032)                   (0.157)                    (0.159)          \n",
      "                                                                                                                                                        \n",
      "--------------------------------------------------------------------------------------------------------------------------------------------------------\n",
      "Observations                  17,936                    17,936                    17,936                     17,936                     17,936          \n",
      "R2                            0.009                      0.010                     0.013                     0.026                      0.029           \n",
      "Adjusted R2                   0.009                      0.010                     0.013                     0.025                      0.029           \n",
      "Residual Std. Error     0.917 (df = 17934)        0.917 (df = 17933)        0.916 (df = 17932)         0.910 (df = 17932)         0.908 (df = 17931)    \n",
      "F Statistic         169.168*** (df = 1; 17934) 88.768*** (df = 2; 17933) 78.965*** (df = 3; 17932) 157.291*** (df = 3; 17932) 133.937*** (df = 4; 17931)\n",
      "========================================================================================================================================================\n",
      "Note:                                                                                                                        *p<0.1; **p<0.05; ***p<0.01\n"
     ]
    }
   ],
   "source": [
    "# Because of heteroskedasticity, we need to use robust standard errors to correct the standard errors in the previous table\n",
    "seA<-sqrt(diag(vcovHC(regA,type=\"HC1\")))\n",
    "seB<-sqrt(diag(vcovHC(regB,type=\"HC1\")))\n",
    "seC<-sqrt(diag(vcovHC(regC,type=\"HC1\")))\n",
    "seD<-sqrt(diag(vcovHC(regD,type=\"HC1\")))\n",
    "seE<-sqrt(diag(vcovHC(regE,type=\"HC1\")))\n",
    "stargazer(regA, regB, regC,regD,regE, title=\"Robust SE Regression Results\",\n",
    "          align = TRUE, type=\"text\", se=list(seA,seB,seC,seD,seE))"
   ]
  },
  {
   "cell_type": "markdown",
   "id": "33cf95a1-0240-41b9-b723-8ea321e520c0",
   "metadata": {},
   "source": [
    "## Robustness Analysis\n",
    "We will divide the products based on their categories to see how the results might change, first we run the regression on All_beauty"
   ]
  },
  {
   "cell_type": "code",
   "execution_count": 23,
   "id": "b9215e50-6eb4-49ac-8e0e-bf8c0275a978",
   "metadata": {},
   "outputs": [
    {
     "name": "stdout",
     "output_type": "stream",
     "text": [
      "\n",
      "Regression Results for All Beauty\n",
      "=========================================================================\n",
      "                                     Dependent variable:                 \n",
      "                    -----------------------------------------------------\n",
      "                                     product_avg_ratings                 \n",
      "                               (1)                        (2)            \n",
      "-------------------------------------------------------------------------\n",
      "logprice                     0.138***                   0.149***         \n",
      "                             (0.010)                    (0.010)          \n",
      "                                                                         \n",
      "main_cat                                                                 \n",
      "                                                                         \n",
      "                                                                         \n",
      "interaction                                                              \n",
      "                                                                         \n",
      "                                                                         \n",
      "pct_rank                                                1.708***         \n",
      "                                                        (0.140)          \n",
      "                                                                         \n",
      "Constant                     3.745***                   2.158***         \n",
      "                             (0.030)                    (0.134)          \n",
      "                                                                         \n",
      "-------------------------------------------------------------------------\n",
      "Observations                  11,104                     11,104          \n",
      "R2                            0.016                      0.029           \n",
      "Adjusted R2                   0.016                      0.029           \n",
      "Residual Std. Error     1.038 (df = 11102)         1.031 (df = 11101)    \n",
      "F Statistic         181.526*** (df = 1; 11102) 166.072*** (df = 2; 11101)\n",
      "=========================================================================\n",
      "Note:                                         *p<0.1; **p<0.05; ***p<0.01\n"
     ]
    }
   ],
   "source": [
    "reg1<-lm(data=filter(amazon_data,main_cat==\"0\"),product_avg_ratings~logprice)\n",
    "reg2<-lm(data=filter(amazon_data,main_cat==\"0\"),product_avg_ratings~logprice+main_cat+interaction+pct_rank) #equivalent to product_avg_ratings~logprice+pct_rank\n",
    "stargazer(reg1, reg2, title=\"Regression Results for All Beauty\",\n",
    "          align = TRUE, type=\"text\")\n"
   ]
  },
  {
   "cell_type": "code",
   "execution_count": 24,
   "id": "303f5a26-ba7b-4f91-9814-6c3771e98f8e",
   "metadata": {},
   "outputs": [
    {
     "name": "stdout",
     "output_type": "stream",
     "text": [
      "\n",
      "Robust SE Regression Results for All Beauty\n",
      "=========================================================================\n",
      "                                     Dependent variable:                 \n",
      "                    -----------------------------------------------------\n",
      "                                     product_avg_ratings                 \n",
      "                               (1)                        (2)            \n",
      "-------------------------------------------------------------------------\n",
      "logprice                     0.138***                   0.149***         \n",
      "                             (0.011)                    (0.011)          \n",
      "                                                                         \n",
      "main_cat                                                                 \n",
      "                                                                         \n",
      "                                                                         \n",
      "interaction                                                              \n",
      "                                                                         \n",
      "                                                                         \n",
      "pct_rank                                                1.708***         \n",
      "                                                        (0.174)          \n",
      "                                                                         \n",
      "Constant                     3.745***                   2.158***         \n",
      "                             (0.032)                    (0.169)          \n",
      "                                                                         \n",
      "-------------------------------------------------------------------------\n",
      "Observations                  11,104                     11,104          \n",
      "R2                            0.016                      0.029           \n",
      "Adjusted R2                   0.016                      0.029           \n",
      "Residual Std. Error     1.038 (df = 11102)         1.031 (df = 11101)    \n",
      "F Statistic         181.526*** (df = 1; 11102) 166.072*** (df = 2; 11101)\n",
      "=========================================================================\n",
      "Note:                                         *p<0.1; **p<0.05; ***p<0.01\n"
     ]
    }
   ],
   "source": [
    "#corrected for heteroskedasticity\n",
    "se1<-sqrt(diag(vcovHC(reg1,type=\"HC1\")))\n",
    "se2<-sqrt(diag(vcovHC(reg2,type=\"HC1\")))\n",
    "stargazer(reg1, reg2, title=\"Robust SE Regression Results for All Beauty\",\n",
    "          align = TRUE, type=\"text\", se=list(se1,se2))"
   ]
  },
  {
   "cell_type": "code",
   "execution_count": 25,
   "id": "ea859f41-a5fe-4099-920e-1e54cc8ae302",
   "metadata": {},
   "outputs": [
    {
     "name": "stdout",
     "output_type": "stream",
     "text": [
      "\n",
      "Regression Results for Luxury Beauty\n",
      "==================================================================\n",
      "                                 Dependent variable:              \n",
      "                    ----------------------------------------------\n",
      "                                 product_avg_ratings              \n",
      "                            (1)                     (2)           \n",
      "------------------------------------------------------------------\n",
      "logprice                   0.007                 0.029***         \n",
      "                          (0.011)                 (0.010)         \n",
      "                                                                  \n",
      "main_cat                                                          \n",
      "                                                                  \n",
      "                                                                  \n",
      "interaction                                                       \n",
      "                                                                  \n",
      "                                                                  \n",
      "pct_rank                                         4.353***         \n",
      "                                                  (0.253)         \n",
      "                                                                  \n",
      "Constant                  4.134***                -0.189          \n",
      "                          (0.038)                 (0.254)         \n",
      "                                                                  \n",
      "------------------------------------------------------------------\n",
      "Observations               6,832                   6,832          \n",
      "R2                         0.0001                  0.042          \n",
      "Adjusted R2               -0.0001                  0.041          \n",
      "Residual Std. Error  0.670 (df = 6830)       0.656 (df = 6829)    \n",
      "F Statistic         0.410 (df = 1; 6830) 148.219*** (df = 2; 6829)\n",
      "==================================================================\n",
      "Note:                                  *p<0.1; **p<0.05; ***p<0.01\n"
     ]
    }
   ],
   "source": [
    "#For Luxury_beauty\n",
    "reg3<-lm(data=filter(amazon_data,main_cat==\"1\"),product_avg_ratings~logprice)\n",
    "reg4<-lm(data=filter(amazon_data,main_cat==\"1\"),product_avg_ratings~logprice+main_cat+interaction+pct_rank) #equivalent to product_avg_ratings~logprice+pct_rank\n",
    "stargazer(reg3, reg4, title=\"Regression Results for Luxury Beauty\",\n",
    "          align = TRUE, type=\"text\")"
   ]
  },
  {
   "cell_type": "code",
   "execution_count": 26,
   "id": "3999aa37-9c10-42f2-bdb4-da7b63ad934f",
   "metadata": {},
   "outputs": [
    {
     "name": "stdout",
     "output_type": "stream",
     "text": [
      "\n",
      "Robust SE Regression Results for Luxury Beauty\n",
      "==================================================================\n",
      "                                 Dependent variable:              \n",
      "                    ----------------------------------------------\n",
      "                                 product_avg_ratings              \n",
      "                            (1)                     (2)           \n",
      "------------------------------------------------------------------\n",
      "logprice                   0.007                  0.029**         \n",
      "                          (0.012)                 (0.012)         \n",
      "                                                                  \n",
      "main_cat                                                          \n",
      "                                                                  \n",
      "                                                                  \n",
      "interaction                                                       \n",
      "                                                                  \n",
      "                                                                  \n",
      "pct_rank                                         4.353***         \n",
      "                                                  (0.430)         \n",
      "                                                                  \n",
      "Constant                  4.134***                -0.189          \n",
      "                          (0.043)                 (0.431)         \n",
      "                                                                  \n",
      "------------------------------------------------------------------\n",
      "Observations               6,832                   6,832          \n",
      "R2                         0.0001                  0.042          \n",
      "Adjusted R2               -0.0001                  0.041          \n",
      "Residual Std. Error  0.670 (df = 6830)       0.656 (df = 6829)    \n",
      "F Statistic         0.410 (df = 1; 6830) 148.219*** (df = 2; 6829)\n",
      "==================================================================\n",
      "Note:                                  *p<0.1; **p<0.05; ***p<0.01\n"
     ]
    }
   ],
   "source": [
    "#corrected for heteroskedasticity\n",
    "se3<-sqrt(diag(vcovHC(reg3,type=\"HC1\")))\n",
    "se4<-sqrt(diag(vcovHC(reg4,type=\"HC1\")))\n",
    "stargazer(reg3, reg4, title=\"Robust SE Regression Results for Luxury Beauty\",\n",
    "          align = TRUE, type=\"text\", se=list(se3,se4))"
   ]
  }
 ],
 "metadata": {
  "kernelspec": {
   "display_name": "R",
   "language": "R",
   "name": "ir"
  },
  "language_info": {
   "codemirror_mode": "r",
   "file_extension": ".r",
   "mimetype": "text/x-r-source",
   "name": "R",
   "pygments_lexer": "r",
   "version": "3.6.1"
  }
 },
 "nbformat": 4,
 "nbformat_minor": 5
}
