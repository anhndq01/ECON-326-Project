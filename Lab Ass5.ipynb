{
 "cells": [
  {
   "cell_type": "code",
   "execution_count": 1,
   "id": "acbcaf12-479f-460c-836c-09998612d0f9",
   "metadata": {},
   "outputs": [
    {
     "name": "stderr",
     "output_type": "stream",
     "text": [
      "Registered S3 methods overwritten by 'ggplot2':\n",
      "  method         from \n",
      "  [.quosures     rlang\n",
      "  c.quosures     rlang\n",
      "  print.quosures rlang\n",
      "\n",
      "Registered S3 method overwritten by 'rvest':\n",
      "  method            from\n",
      "  read_xml.response xml2\n",
      "\n",
      "-- \u001b[1mAttaching packages\u001b[22m --------------------------------------- tidyverse 1.2.1 --\n",
      "\n",
      "\u001b[32m√\u001b[39m \u001b[34mggplot2\u001b[39m 3.1.1       \u001b[32m√\u001b[39m \u001b[34mpurrr  \u001b[39m 0.3.2  \n",
      "\u001b[32m√\u001b[39m \u001b[34mtibble \u001b[39m 2.1.1       \u001b[32m√\u001b[39m \u001b[34mdplyr  \u001b[39m 0.8.0.\u001b[31m1\u001b[39m\n",
      "\u001b[32m√\u001b[39m \u001b[34mtidyr  \u001b[39m 0.8.3       \u001b[32m√\u001b[39m \u001b[34mstringr\u001b[39m 1.4.0  \n",
      "\u001b[32m√\u001b[39m \u001b[34mreadr  \u001b[39m 1.3.1       \u001b[32m√\u001b[39m \u001b[34mforcats\u001b[39m 0.4.0  \n",
      "\n",
      "-- \u001b[1mConflicts\u001b[22m ------------------------------------------ tidyverse_conflicts() --\n",
      "\u001b[31mx\u001b[39m \u001b[34mdplyr\u001b[39m::\u001b[32mfilter()\u001b[39m masks \u001b[34mstats\u001b[39m::filter()\n",
      "\u001b[31mx\u001b[39m \u001b[34mdplyr\u001b[39m::\u001b[32mlag()\u001b[39m    masks \u001b[34mstats\u001b[39m::lag()\n",
      "\n",
      "\n",
      "Please cite as: \n",
      "\n",
      "\n",
      " Hlavac, Marek (2018). stargazer: Well-Formatted Regression and Summary Statistics Tables.\n",
      "\n",
      " R package version 5.2.2. https://CRAN.R-project.org/package=stargazer \n",
      "\n",
      "\n"
     ]
    }
   ],
   "source": [
    "library(tidyverse) \n",
    "library(haven)\n",
    "library(dplyr)\n",
    "library(stargazer)"
   ]
  },
  {
   "cell_type": "code",
   "execution_count": 17,
   "id": "d7f299c9-2c9c-441d-9cb8-cffd629bb8aa",
   "metadata": {},
   "outputs": [
    {
     "data": {
      "text/html": [
       "<table>\n",
       "<thead><tr><th scope=col>X</th><th scope=col>asin</th><th scope=col>product_avg_ratings</th><th scope=col>price</th><th scope=col>main_cat</th></tr></thead>\n",
       "<tbody>\n",
       "\t<tr><td>1         </td><td>7178680776</td><td>3.0       </td><td>44.99     </td><td>0         </td></tr>\n",
       "\t<tr><td>2         </td><td>7250468162</td><td>5.0       </td><td>28.76     </td><td>0         </td></tr>\n",
       "\t<tr><td>3         </td><td>7414204790</td><td>4.4       </td><td>12.15     </td><td>0         </td></tr>\n",
       "\t<tr><td>4         </td><td>7414204790</td><td>4.4       </td><td>12.15     </td><td>0         </td></tr>\n",
       "\t<tr><td>5         </td><td>7414204790</td><td>4.4       </td><td>12.15     </td><td>0         </td></tr>\n",
       "\t<tr><td>6         </td><td>7414204790</td><td>4.4       </td><td>12.15     </td><td>0         </td></tr>\n",
       "</tbody>\n",
       "</table>\n"
      ],
      "text/latex": [
       "\\begin{tabular}{r|lllll}\n",
       " X & asin & product\\_avg\\_ratings & price & main\\_cat\\\\\n",
       "\\hline\n",
       "\t 1          & 7178680776 & 3.0        & 44.99      & 0         \\\\\n",
       "\t 2          & 7250468162 & 5.0        & 28.76      & 0         \\\\\n",
       "\t 3          & 7414204790 & 4.4        & 12.15      & 0         \\\\\n",
       "\t 4          & 7414204790 & 4.4        & 12.15      & 0         \\\\\n",
       "\t 5          & 7414204790 & 4.4        & 12.15      & 0         \\\\\n",
       "\t 6          & 7414204790 & 4.4        & 12.15      & 0         \\\\\n",
       "\\end{tabular}\n"
      ],
      "text/markdown": [
       "\n",
       "| X | asin | product_avg_ratings | price | main_cat |\n",
       "|---|---|---|---|---|\n",
       "| 1          | 7178680776 | 3.0        | 44.99      | 0          |\n",
       "| 2          | 7250468162 | 5.0        | 28.76      | 0          |\n",
       "| 3          | 7414204790 | 4.4        | 12.15      | 0          |\n",
       "| 4          | 7414204790 | 4.4        | 12.15      | 0          |\n",
       "| 5          | 7414204790 | 4.4        | 12.15      | 0          |\n",
       "| 6          | 7414204790 | 4.4        | 12.15      | 0          |\n",
       "\n"
      ],
      "text/plain": [
       "  X asin       product_avg_ratings price main_cat\n",
       "1 1 7178680776 3.0                 44.99 0       \n",
       "2 2 7250468162 5.0                 28.76 0       \n",
       "3 3 7414204790 4.4                 12.15 0       \n",
       "4 4 7414204790 4.4                 12.15 0       \n",
       "5 5 7414204790 4.4                 12.15 0       \n",
       "6 6 7414204790 4.4                 12.15 0       "
      ]
     },
     "metadata": {},
     "output_type": "display_data"
    }
   ],
   "source": [
    "amazon_data<-read.csv(\"C:/Users/23980/Desktop/Jupyter/comet-project/final project/cleaned_dataset.csv\")\n",
    "head(amazon_data)"
   ]
  },
  {
   "cell_type": "code",
   "execution_count": 18,
   "id": "fb9db05c-d8ca-4f49-b805-83cb71935baa",
   "metadata": {},
   "outputs": [],
   "source": [
    "amazon_data<-amazon_data %>%\n",
    "mutate(logprice=log(price))\n",
    "amazon_data_logged <- amazon_data %>%\n",
    "                filter(price > 0)"
   ]
  },
  {
   "cell_type": "code",
   "execution_count": 19,
   "id": "df84efd3-7a05-4b90-bd38-f772e49a39c4",
   "metadata": {},
   "outputs": [
    {
     "data": {
      "text/html": [
       "<table>\n",
       "<thead><tr><th scope=col>X</th><th scope=col>asin</th><th scope=col>product_avg_ratings</th><th scope=col>price</th><th scope=col>main_cat</th><th scope=col>logprice</th></tr></thead>\n",
       "<tbody>\n",
       "\t<tr><td>1         </td><td>7178680776</td><td>3.0       </td><td>44.99     </td><td>0         </td><td>3.806440  </td></tr>\n",
       "\t<tr><td>2         </td><td>7250468162</td><td>5.0       </td><td>28.76     </td><td>0         </td><td>3.358986  </td></tr>\n",
       "\t<tr><td>3         </td><td>7414204790</td><td>4.4       </td><td>12.15     </td><td>0         </td><td>2.497329  </td></tr>\n",
       "\t<tr><td>4         </td><td>7414204790</td><td>4.4       </td><td>12.15     </td><td>0         </td><td>2.497329  </td></tr>\n",
       "\t<tr><td>5         </td><td>7414204790</td><td>4.4       </td><td>12.15     </td><td>0         </td><td>2.497329  </td></tr>\n",
       "\t<tr><td>6         </td><td>7414204790</td><td>4.4       </td><td>12.15     </td><td>0         </td><td>2.497329  </td></tr>\n",
       "</tbody>\n",
       "</table>\n"
      ],
      "text/latex": [
       "\\begin{tabular}{r|llllll}\n",
       " X & asin & product\\_avg\\_ratings & price & main\\_cat & logprice\\\\\n",
       "\\hline\n",
       "\t 1          & 7178680776 & 3.0        & 44.99      & 0          & 3.806440  \\\\\n",
       "\t 2          & 7250468162 & 5.0        & 28.76      & 0          & 3.358986  \\\\\n",
       "\t 3          & 7414204790 & 4.4        & 12.15      & 0          & 2.497329  \\\\\n",
       "\t 4          & 7414204790 & 4.4        & 12.15      & 0          & 2.497329  \\\\\n",
       "\t 5          & 7414204790 & 4.4        & 12.15      & 0          & 2.497329  \\\\\n",
       "\t 6          & 7414204790 & 4.4        & 12.15      & 0          & 2.497329  \\\\\n",
       "\\end{tabular}\n"
      ],
      "text/markdown": [
       "\n",
       "| X | asin | product_avg_ratings | price | main_cat | logprice |\n",
       "|---|---|---|---|---|---|\n",
       "| 1          | 7178680776 | 3.0        | 44.99      | 0          | 3.806440   |\n",
       "| 2          | 7250468162 | 5.0        | 28.76      | 0          | 3.358986   |\n",
       "| 3          | 7414204790 | 4.4        | 12.15      | 0          | 2.497329   |\n",
       "| 4          | 7414204790 | 4.4        | 12.15      | 0          | 2.497329   |\n",
       "| 5          | 7414204790 | 4.4        | 12.15      | 0          | 2.497329   |\n",
       "| 6          | 7414204790 | 4.4        | 12.15      | 0          | 2.497329   |\n",
       "\n"
      ],
      "text/plain": [
       "  X asin       product_avg_ratings price main_cat logprice\n",
       "1 1 7178680776 3.0                 44.99 0        3.806440\n",
       "2 2 7250468162 5.0                 28.76 0        3.358986\n",
       "3 3 7414204790 4.4                 12.15 0        2.497329\n",
       "4 4 7414204790 4.4                 12.15 0        2.497329\n",
       "5 5 7414204790 4.4                 12.15 0        2.497329\n",
       "6 6 7414204790 4.4                 12.15 0        2.497329"
      ]
     },
     "metadata": {},
     "output_type": "display_data"
    }
   ],
   "source": [
    "head(amazon_data)"
   ]
  },
  {
   "cell_type": "code",
   "execution_count": 21,
   "id": "203706db-fd01-4036-9ac7-00590c556bd9",
   "metadata": {},
   "outputs": [
    {
     "name": "stdout",
     "output_type": "stream",
     "text": [
      "\n",
      "Comparison of Regression Results\n",
      "=================================================\n",
      "                     Dependent variable:         \n",
      "             ------------------------------------\n",
      "                     product_avg_ratings         \n",
      "               (1)      (2)       (3)      (4)   \n",
      "-------------------------------------------------\n",
      "logprice     0.017*** 0.119*** -0.060*** 0.003***\n",
      "             (0.001)  (0.001)   (0.001)  (0.001) \n",
      "                                                 \n",
      "main_cat                                 0.062***\n",
      "                                         (0.001) \n",
      "                                                 \n",
      "Constant     4.159*** 3.866*** 4.435***  4.159***\n",
      "             (0.002)  (0.004)   (0.002)  (0.002) \n",
      "                                                 \n",
      "-------------------------------------------------\n",
      "Observations 677,952  196,419   481,533  677,952 \n",
      "R2            0.001    0.036     0.018    0.005  \n",
      "=================================================\n",
      "Note:                 *p<0.1; **p<0.05; ***p<0.01\n"
     ]
    }
   ],
   "source": [
    "regression1<-lm(data=amazon_data,product_avg_ratings~logprice)\n",
    "regression2<-lm(data=filter(amazon_data,main_cat==\"0\"),product_avg_ratings~logprice)\n",
    "regression3<-lm(data=filter(amazon_data,main_cat==\"1\"),product_avg_ratings~logprice)\n",
    "regression4<-lm(data=amazon_data,product_avg_ratings~logprice+main_cat)\n",
    "stargazer(regression1, regression2, regression3,regression4, title=\"Comparison of Regression Results\",\n",
    "          align = TRUE, type=\"text\", keep.stat = c(\"n\",\"rsq\"))"
   ]
  }
 ],
 "metadata": {
  "kernelspec": {
   "display_name": "R",
   "language": "R",
   "name": "ir"
  },
  "language_info": {
   "codemirror_mode": "r",
   "file_extension": ".r",
   "mimetype": "text/x-r-source",
   "name": "R",
   "pygments_lexer": "r",
   "version": "3.6.1"
  }
 },
 "nbformat": 4,
 "nbformat_minor": 5
}
