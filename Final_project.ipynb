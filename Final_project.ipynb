{
 "cells": [
  {
   "cell_type": "code",
   "execution_count": 1,
   "id": "acbcaf12-479f-460c-836c-09998612d0f9",
   "metadata": {},
   "outputs": [
    {
     "name": "stderr",
     "output_type": "stream",
     "text": [
      "── \u001b[1mAttaching packages\u001b[22m ─────────────────────────────────────── tidyverse 1.3.2 ──\n",
      "\u001b[32m✔\u001b[39m \u001b[34mggplot2\u001b[39m 3.4.2     \u001b[32m✔\u001b[39m \u001b[34mpurrr  \u001b[39m 1.0.1\n",
      "\u001b[32m✔\u001b[39m \u001b[34mtibble \u001b[39m 3.2.1     \u001b[32m✔\u001b[39m \u001b[34mdplyr  \u001b[39m 1.1.1\n",
      "\u001b[32m✔\u001b[39m \u001b[34mtidyr  \u001b[39m 1.3.0     \u001b[32m✔\u001b[39m \u001b[34mstringr\u001b[39m 1.5.0\n",
      "\u001b[32m✔\u001b[39m \u001b[34mreadr  \u001b[39m 2.1.4     \u001b[32m✔\u001b[39m \u001b[34mforcats\u001b[39m 0.5.2\n",
      "── \u001b[1mConflicts\u001b[22m ────────────────────────────────────────── tidyverse_conflicts() ──\n",
      "\u001b[31m✖\u001b[39m \u001b[34mdplyr\u001b[39m::\u001b[32mfilter()\u001b[39m masks \u001b[34mstats\u001b[39m::filter()\n",
      "\u001b[31m✖\u001b[39m \u001b[34mdplyr\u001b[39m::\u001b[32mlag()\u001b[39m    masks \u001b[34mstats\u001b[39m::lag()\n",
      "\n",
      "Please cite as: \n",
      "\n",
      "\n",
      " Hlavac, Marek (2022). stargazer: Well-Formatted Regression and Summary Statistics Tables.\n",
      "\n",
      " R package version 5.2.3. https://CRAN.R-project.org/package=stargazer \n",
      "\n",
      "\n"
     ]
    }
   ],
   "source": [
    "library(tidyverse) \n",
    "library(haven)\n",
    "library(dplyr)\n",
    "library(stargazer)"
   ]
  },
  {
   "cell_type": "code",
   "execution_count": 2,
   "id": "d7f299c9-2c9c-441d-9cb8-cffd629bb8aa",
   "metadata": {},
   "outputs": [
    {
     "data": {
      "text/html": [
       "<table class=\"dataframe\">\n",
       "<caption>A data.frame: 6 × 5</caption>\n",
       "<thead>\n",
       "\t<tr><th></th><th scope=col>asin</th><th scope=col>product_avg_ratings</th><th scope=col>price</th><th scope=col>main_cat</th><th scope=col>rank</th></tr>\n",
       "\t<tr><th></th><th scope=col>&lt;chr&gt;</th><th scope=col>&lt;dbl&gt;</th><th scope=col>&lt;dbl&gt;</th><th scope=col>&lt;int&gt;</th><th scope=col>&lt;dbl&gt;</th></tr>\n",
       "</thead>\n",
       "<tbody>\n",
       "\t<tr><th scope=row>1</th><td>7178680776</td><td>3.00000</td><td>44.99</td><td>0</td><td> 872854</td></tr>\n",
       "\t<tr><th scope=row>2</th><td>7250468162</td><td>5.00000</td><td>28.76</td><td>0</td><td> 956696</td></tr>\n",
       "\t<tr><th scope=row>3</th><td>7414204790</td><td>4.40000</td><td>12.15</td><td>0</td><td>  67701</td></tr>\n",
       "\t<tr><th scope=row>4</th><td>8921463194</td><td>1.00000</td><td>24.99</td><td>0</td><td>1676787</td></tr>\n",
       "\t<tr><th scope=row>5</th><td>9752980953</td><td>1.00000</td><td>21.95</td><td>0</td><td>2325042</td></tr>\n",
       "\t<tr><th scope=row>6</th><td>9790787006</td><td>4.22807</td><td>13.85</td><td>0</td><td> 298893</td></tr>\n",
       "</tbody>\n",
       "</table>\n"
      ],
      "text/latex": [
       "A data.frame: 6 × 5\n",
       "\\begin{tabular}{r|lllll}\n",
       "  & asin & product\\_avg\\_ratings & price & main\\_cat & rank\\\\\n",
       "  & <chr> & <dbl> & <dbl> & <int> & <dbl>\\\\\n",
       "\\hline\n",
       "\t1 & 7178680776 & 3.00000 & 44.99 & 0 &  872854\\\\\n",
       "\t2 & 7250468162 & 5.00000 & 28.76 & 0 &  956696\\\\\n",
       "\t3 & 7414204790 & 4.40000 & 12.15 & 0 &   67701\\\\\n",
       "\t4 & 8921463194 & 1.00000 & 24.99 & 0 & 1676787\\\\\n",
       "\t5 & 9752980953 & 1.00000 & 21.95 & 0 & 2325042\\\\\n",
       "\t6 & 9790787006 & 4.22807 & 13.85 & 0 &  298893\\\\\n",
       "\\end{tabular}\n"
      ],
      "text/markdown": [
       "\n",
       "A data.frame: 6 × 5\n",
       "\n",
       "| <!--/--> | asin &lt;chr&gt; | product_avg_ratings &lt;dbl&gt; | price &lt;dbl&gt; | main_cat &lt;int&gt; | rank &lt;dbl&gt; |\n",
       "|---|---|---|---|---|---|\n",
       "| 1 | 7178680776 | 3.00000 | 44.99 | 0 |  872854 |\n",
       "| 2 | 7250468162 | 5.00000 | 28.76 | 0 |  956696 |\n",
       "| 3 | 7414204790 | 4.40000 | 12.15 | 0 |   67701 |\n",
       "| 4 | 8921463194 | 1.00000 | 24.99 | 0 | 1676787 |\n",
       "| 5 | 9752980953 | 1.00000 | 21.95 | 0 | 2325042 |\n",
       "| 6 | 9790787006 | 4.22807 | 13.85 | 0 |  298893 |\n",
       "\n"
      ],
      "text/plain": [
       "  asin       product_avg_ratings price main_cat rank   \n",
       "1 7178680776 3.00000             44.99 0         872854\n",
       "2 7250468162 5.00000             28.76 0         956696\n",
       "3 7414204790 4.40000             12.15 0          67701\n",
       "4 8921463194 1.00000             24.99 0        1676787\n",
       "5 9752980953 1.00000             21.95 0        2325042\n",
       "6 9790787006 4.22807             13.85 0         298893"
      ]
     },
     "metadata": {},
     "output_type": "display_data"
    }
   ],
   "source": [
    "amazon_data <-read.csv(\"data/cleaned_dataset.csv\")\n",
    "head(amazon_data)"
   ]
  },
  {
   "cell_type": "code",
   "execution_count": 3,
   "id": "fb9db05c-d8ca-4f49-b805-83cb71935baa",
   "metadata": {},
   "outputs": [],
   "source": [
    "amazon_data <- amazon_data %>%\n",
    "                mutate(logprice=log(price), lograting = log(product_avg_ratings))"
   ]
  },
  {
   "cell_type": "code",
   "execution_count": 4,
   "id": "df84efd3-7a05-4b90-bd38-f772e49a39c4",
   "metadata": {},
   "outputs": [
    {
     "data": {
      "text/html": [
       "<table class=\"dataframe\">\n",
       "<caption>A data.frame: 6 × 7</caption>\n",
       "<thead>\n",
       "\t<tr><th></th><th scope=col>asin</th><th scope=col>product_avg_ratings</th><th scope=col>price</th><th scope=col>main_cat</th><th scope=col>rank</th><th scope=col>logprice</th><th scope=col>lograting</th></tr>\n",
       "\t<tr><th></th><th scope=col>&lt;chr&gt;</th><th scope=col>&lt;dbl&gt;</th><th scope=col>&lt;dbl&gt;</th><th scope=col>&lt;int&gt;</th><th scope=col>&lt;dbl&gt;</th><th scope=col>&lt;dbl&gt;</th><th scope=col>&lt;dbl&gt;</th></tr>\n",
       "</thead>\n",
       "<tbody>\n",
       "\t<tr><th scope=row>1</th><td>7178680776</td><td>3.00000</td><td>44.99</td><td>0</td><td> 872854</td><td>3.806440</td><td>1.098612</td></tr>\n",
       "\t<tr><th scope=row>2</th><td>7250468162</td><td>5.00000</td><td>28.76</td><td>0</td><td> 956696</td><td>3.358986</td><td>1.609438</td></tr>\n",
       "\t<tr><th scope=row>3</th><td>7414204790</td><td>4.40000</td><td>12.15</td><td>0</td><td>  67701</td><td>2.497329</td><td>1.481605</td></tr>\n",
       "\t<tr><th scope=row>4</th><td>8921463194</td><td>1.00000</td><td>24.99</td><td>0</td><td>1676787</td><td>3.218476</td><td>0.000000</td></tr>\n",
       "\t<tr><th scope=row>5</th><td>9752980953</td><td>1.00000</td><td>21.95</td><td>0</td><td>2325042</td><td>3.088767</td><td>0.000000</td></tr>\n",
       "\t<tr><th scope=row>6</th><td>9790787006</td><td>4.22807</td><td>13.85</td><td>0</td><td> 298893</td><td>2.628285</td><td>1.441746</td></tr>\n",
       "</tbody>\n",
       "</table>\n"
      ],
      "text/latex": [
       "A data.frame: 6 × 7\n",
       "\\begin{tabular}{r|lllllll}\n",
       "  & asin & product\\_avg\\_ratings & price & main\\_cat & rank & logprice & lograting\\\\\n",
       "  & <chr> & <dbl> & <dbl> & <int> & <dbl> & <dbl> & <dbl>\\\\\n",
       "\\hline\n",
       "\t1 & 7178680776 & 3.00000 & 44.99 & 0 &  872854 & 3.806440 & 1.098612\\\\\n",
       "\t2 & 7250468162 & 5.00000 & 28.76 & 0 &  956696 & 3.358986 & 1.609438\\\\\n",
       "\t3 & 7414204790 & 4.40000 & 12.15 & 0 &   67701 & 2.497329 & 1.481605\\\\\n",
       "\t4 & 8921463194 & 1.00000 & 24.99 & 0 & 1676787 & 3.218476 & 0.000000\\\\\n",
       "\t5 & 9752980953 & 1.00000 & 21.95 & 0 & 2325042 & 3.088767 & 0.000000\\\\\n",
       "\t6 & 9790787006 & 4.22807 & 13.85 & 0 &  298893 & 2.628285 & 1.441746\\\\\n",
       "\\end{tabular}\n"
      ],
      "text/markdown": [
       "\n",
       "A data.frame: 6 × 7\n",
       "\n",
       "| <!--/--> | asin &lt;chr&gt; | product_avg_ratings &lt;dbl&gt; | price &lt;dbl&gt; | main_cat &lt;int&gt; | rank &lt;dbl&gt; | logprice &lt;dbl&gt; | lograting &lt;dbl&gt; |\n",
       "|---|---|---|---|---|---|---|---|\n",
       "| 1 | 7178680776 | 3.00000 | 44.99 | 0 |  872854 | 3.806440 | 1.098612 |\n",
       "| 2 | 7250468162 | 5.00000 | 28.76 | 0 |  956696 | 3.358986 | 1.609438 |\n",
       "| 3 | 7414204790 | 4.40000 | 12.15 | 0 |   67701 | 2.497329 | 1.481605 |\n",
       "| 4 | 8921463194 | 1.00000 | 24.99 | 0 | 1676787 | 3.218476 | 0.000000 |\n",
       "| 5 | 9752980953 | 1.00000 | 21.95 | 0 | 2325042 | 3.088767 | 0.000000 |\n",
       "| 6 | 9790787006 | 4.22807 | 13.85 | 0 |  298893 | 2.628285 | 1.441746 |\n",
       "\n"
      ],
      "text/plain": [
       "  asin       product_avg_ratings price main_cat rank    logprice lograting\n",
       "1 7178680776 3.00000             44.99 0         872854 3.806440 1.098612 \n",
       "2 7250468162 5.00000             28.76 0         956696 3.358986 1.609438 \n",
       "3 7414204790 4.40000             12.15 0          67701 2.497329 1.481605 \n",
       "4 8921463194 1.00000             24.99 0        1676787 3.218476 0.000000 \n",
       "5 9752980953 1.00000             21.95 0        2325042 3.088767 0.000000 \n",
       "6 9790787006 4.22807             13.85 0         298893 2.628285 1.441746 "
      ]
     },
     "metadata": {},
     "output_type": "display_data"
    }
   ],
   "source": [
    "head(amazon_data)"
   ]
  },
  {
   "cell_type": "code",
   "execution_count": 7,
   "id": "cb11385e-04c1-4229-baa9-392483033f0e",
   "metadata": {},
   "outputs": [
    {
     "data": {
      "text/plain": [
       "     asin           product_avg_ratings     price            main_cat     \n",
       " Length:17936       Min.   :1.000       Min.   :   0.01   Min.   :0.0000  \n",
       " Class :character   1st Qu.:3.818       1st Qu.:  11.90   1st Qu.:0.0000  \n",
       " Mode  :character   Median :4.333       Median :  21.00   Median :0.0000  \n",
       "                    Mean   :4.142       Mean   :  34.27   Mean   :0.3809  \n",
       "                    3rd Qu.:5.000       3rd Qu.:  39.00   3rd Qu.:1.0000  \n",
       "                    Max.   :5.000       Max.   : 999.99   Max.   :1.0000  \n",
       "      rank            logprice        lograting    \n",
       " Min.   :     35   Min.   :-4.605   Min.   :0.000  \n",
       " 1st Qu.: 124466   1st Qu.: 2.477   1st Qu.:1.340  \n",
       " Median : 407634   Median : 3.045   Median :1.466  \n",
       " Mean   : 617067   Mean   : 3.068   Mean   :1.382  \n",
       " 3rd Qu.: 920822   3rd Qu.: 3.664   3rd Qu.:1.609  \n",
       " Max.   :9549407   Max.   : 6.908   Max.   :1.609  "
      ]
     },
     "metadata": {},
     "output_type": "display_data"
    }
   ],
   "source": [
    "summary(amazon_data)"
   ]
  },
  {
   "cell_type": "code",
   "execution_count": 6,
   "id": "203706db-fd01-4036-9ac7-00590c556bd9",
   "metadata": {},
   "outputs": [
    {
     "name": "stdout",
     "output_type": "stream",
     "text": [
      "\n",
      "Comparison of Regression Results\n",
      "===============================================================================================\n",
      "                                              Dependent variable:                              \n",
      "                -------------------------------------------------------------------------------\n",
      "                               product_avg_ratings                 scale(product_avg_ratings)  \n",
      "                  (1)       (2)      (3)       (4)        (5)        (6)       (7)       (8)   \n",
      "-----------------------------------------------------------------------------------------------\n",
      "logprice        0.094*** 0.138***   0.007   0.101***   0.113***                                \n",
      "                (0.007)   (0.010)  (0.011)   (0.008)    (0.008)                                \n",
      "                                                                                               \n",
      "main_cat                                    -0.043***  -0.181***                               \n",
      "                                             (0.015)    (0.017)                                \n",
      "                                                                                               \n",
      "rank                                                  -0.00000***                              \n",
      "                                                        (0.000)                                \n",
      "                                                                                               \n",
      "scale(logprice)                                                   0.117***            0.137*** \n",
      "                                                                   (0.008)             (0.009) \n",
      "                                                                                               \n",
      "scale(main_cat)                                                   -0.095***                    \n",
      "                                                                   (0.009)                     \n",
      "                                                                                               \n",
      "scale(rank)                                                       -0.143*** -0.109*** -0.114***\n",
      "                                                                   (0.008)   (0.007)   (0.009) \n",
      "                                                                                               \n",
      "Constant        3.854*** 3.745***  4.134*** 3.847***   3.991***     0.000    -0.000     0.000  \n",
      "                (0.023)   (0.030)  (0.038)   (0.023)    (0.025)    (0.007)   (0.007)   (0.009) \n",
      "                                                                                               \n",
      "-----------------------------------------------------------------------------------------------\n",
      "Observations     17,936   11,104    6,832    17,936     17,936     17,936    17,936    11,104  \n",
      "R2               0.009     0.016    0.0001    0.010      0.026      0.026     0.012     0.029  \n",
      "===============================================================================================\n",
      "Note:                                                               *p<0.1; **p<0.05; ***p<0.01\n"
     ]
    }
   ],
   "source": [
    "rg1<-lm(data=amazon_data,product_avg_ratings~logprice)\n",
    "rg2<-lm(data=filter(amazon_data,main_cat==\"0\"),product_avg_ratings~logprice)\n",
    "rg3<-lm(data=filter(amazon_data,main_cat==\"1\"),product_avg_ratings~logprice)\n",
    "rg4<-lm(data=amazon_data,product_avg_ratings~logprice+main_cat)\n",
    "rg5<-lm(data=amazon_data, product_avg_ratings~logprice+main_cat+rank)\n",
    "#rg6, 7, 8 uses standardized coefficients\n",
    "rg6<-lm(data=amazon_data,scale(product_avg_ratings)~scale(logprice)+scale(main_cat)+scale(rank))\n",
    "rg7<-lm(data=amazon_data, scale(product_avg_ratings)~scale(rank))\n",
    "rg8<-lm(data=filter(amazon_data,main_cat==\"0\"),scale(product_avg_ratings)~scale(logprice)+scale(rank))\n",
    "stargazer(rg1, rg2, rg3, rg4, rg5, rg6, rg7, rg8, title=\"Comparison of Regression Results\",\n",
    "          align = TRUE, type=\"text\", keep.stat = c(\"n\",\"rsq\"))"
   ]
  },
  {
   "cell_type": "code",
   "execution_count": null,
   "id": "dbef7c09-1b00-4492-b1be-85150b854a8f",
   "metadata": {},
   "outputs": [],
   "source": []
  }
 ],
 "metadata": {
  "kernelspec": {
   "display_name": "R",
   "language": "R",
   "name": "ir"
  },
  "language_info": {
   "codemirror_mode": "r",
   "file_extension": ".r",
   "mimetype": "text/x-r-source",
   "name": "R",
   "pygments_lexer": "r",
   "version": "4.1.2"
  }
 },
 "nbformat": 4,
 "nbformat_minor": 5
}
