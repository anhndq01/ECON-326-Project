{
 "cells": [
  {
   "cell_type": "code",
   "execution_count": 1,
   "id": "44751e67-5b35-4fa4-84af-4a4f5162d18a",
   "metadata": {},
   "outputs": [
    {
     "name": "stderr",
     "output_type": "stream",
     "text": [
      "── \u001b[1mAttaching packages\u001b[22m ─────────────────────────────────────── tidyverse 1.3.2 ──\n",
      "\u001b[32m✔\u001b[39m \u001b[34mggplot2\u001b[39m 3.4.0      \u001b[32m✔\u001b[39m \u001b[34mpurrr  \u001b[39m 1.0.1 \n",
      "\u001b[32m✔\u001b[39m \u001b[34mtibble \u001b[39m 3.1.8      \u001b[32m✔\u001b[39m \u001b[34mdplyr  \u001b[39m 1.0.10\n",
      "\u001b[32m✔\u001b[39m \u001b[34mtidyr  \u001b[39m 1.2.1      \u001b[32m✔\u001b[39m \u001b[34mstringr\u001b[39m 1.5.0 \n",
      "\u001b[32m✔\u001b[39m \u001b[34mreadr  \u001b[39m 2.1.4      \u001b[32m✔\u001b[39m \u001b[34mforcats\u001b[39m 0.5.2 \n",
      "── \u001b[1mConflicts\u001b[22m ────────────────────────────────────────── tidyverse_conflicts() ──\n",
      "\u001b[31m✖\u001b[39m \u001b[34mdplyr\u001b[39m::\u001b[32mfilter()\u001b[39m masks \u001b[34mstats\u001b[39m::filter()\n",
      "\u001b[31m✖\u001b[39m \u001b[34mdplyr\u001b[39m::\u001b[32mlag()\u001b[39m    masks \u001b[34mstats\u001b[39m::lag()\n",
      "── \u001b[1mAttaching packages\u001b[22m ────────────────────────────────────── tidymodels 1.0.0 ──\n",
      "\n",
      "\u001b[32m✔\u001b[39m \u001b[34mbroom       \u001b[39m 1.0.2     \u001b[32m✔\u001b[39m \u001b[34mrsample     \u001b[39m 1.1.1\n",
      "\u001b[32m✔\u001b[39m \u001b[34mdials       \u001b[39m 1.1.0     \u001b[32m✔\u001b[39m \u001b[34mtune        \u001b[39m 1.0.1\n",
      "\u001b[32m✔\u001b[39m \u001b[34minfer       \u001b[39m 1.0.4     \u001b[32m✔\u001b[39m \u001b[34mworkflows   \u001b[39m 1.1.2\n",
      "\u001b[32m✔\u001b[39m \u001b[34mmodeldata   \u001b[39m 1.0.1     \u001b[32m✔\u001b[39m \u001b[34mworkflowsets\u001b[39m 1.0.0\n",
      "\u001b[32m✔\u001b[39m \u001b[34mparsnip     \u001b[39m 1.0.3     \u001b[32m✔\u001b[39m \u001b[34myardstick   \u001b[39m 1.1.0\n",
      "\u001b[32m✔\u001b[39m \u001b[34mrecipes     \u001b[39m 1.0.4     \n",
      "\n",
      "── \u001b[1mConflicts\u001b[22m ───────────────────────────────────────── tidymodels_conflicts() ──\n",
      "\u001b[31m✖\u001b[39m \u001b[34mscales\u001b[39m::\u001b[32mdiscard()\u001b[39m masks \u001b[34mpurrr\u001b[39m::discard()\n",
      "\u001b[31m✖\u001b[39m \u001b[34mdplyr\u001b[39m::\u001b[32mfilter()\u001b[39m   masks \u001b[34mstats\u001b[39m::filter()\n",
      "\u001b[31m✖\u001b[39m \u001b[34mrecipes\u001b[39m::\u001b[32mfixed()\u001b[39m  masks \u001b[34mstringr\u001b[39m::fixed()\n",
      "\u001b[31m✖\u001b[39m \u001b[34mdplyr\u001b[39m::\u001b[32mlag()\u001b[39m      masks \u001b[34mstats\u001b[39m::lag()\n",
      "\u001b[31m✖\u001b[39m \u001b[34myardstick\u001b[39m::\u001b[32mspec()\u001b[39m masks \u001b[34mreadr\u001b[39m::spec()\n",
      "\u001b[31m✖\u001b[39m \u001b[34mrecipes\u001b[39m::\u001b[32mstep()\u001b[39m   masks \u001b[34mstats\u001b[39m::step()\n",
      "\u001b[34m•\u001b[39m Dig deeper into tidy modeling with R at \u001b[32mhttps://www.tmwr.org\u001b[39m\n",
      "\n"
     ]
    }
   ],
   "source": [
    "library(tidyverse)\n",
    "library(tidymodels)\n",
    "library(cleandata)\n",
    "library(tidyr)"
   ]
  },
  {
   "cell_type": "code",
   "execution_count": 2,
   "id": "c66de161-735d-499b-8010-1022363b2276",
   "metadata": {},
   "outputs": [
    {
     "data": {
      "text/html": [
       "<table class=\"dataframe\">\n",
       "<caption>A data.frame: 6 × 6</caption>\n",
       "<thead>\n",
       "\t<tr><th></th><th scope=col>X</th><th scope=col>main_cat</th><th scope=col>price</th><th scope=col>asin</th><th scope=col>rank</th><th scope=col>overall</th></tr>\n",
       "\t<tr><th></th><th scope=col>&lt;int&gt;</th><th scope=col>&lt;chr&gt;</th><th scope=col>&lt;chr&gt;</th><th scope=col>&lt;chr&gt;</th><th scope=col>&lt;chr&gt;</th><th scope=col>&lt;dbl&gt;</th></tr>\n",
       "</thead>\n",
       "<tbody>\n",
       "\t<tr><th scope=row>1</th><td>0</td><td>All Beauty</td><td><span style=white-space:pre-wrap>      </span></td><td>6546546450</td><td>2,938,573 in Beauty &amp; Personal Care (</td><td>4</td></tr>\n",
       "\t<tr><th scope=row>2</th><td>1</td><td>All Beauty</td><td><span style=white-space:pre-wrap>      </span></td><td>6546546450</td><td>2,938,573 in Beauty &amp; Personal Care (</td><td>1</td></tr>\n",
       "\t<tr><th scope=row>3</th><td>2</td><td>All Beauty</td><td>$44.99</td><td>7178680776</td><td><span style=white-space:pre-wrap>872,854 in Beauty &amp; Personal Care (  </span></td><td>3</td></tr>\n",
       "\t<tr><th scope=row>4</th><td>3</td><td>All Beauty</td><td>$28.76</td><td>7250468162</td><td><span style=white-space:pre-wrap>956,696 in Beauty &amp; Personal Care (  </span></td><td>5</td></tr>\n",
       "\t<tr><th scope=row>5</th><td>4</td><td>All Beauty</td><td><span style=white-space:pre-wrap>      </span></td><td>7367905066</td><td>1,870,258 in Beauty &amp; Personal Care (</td><td>5</td></tr>\n",
       "\t<tr><th scope=row>6</th><td>5</td><td>All Beauty</td><td>$12.15</td><td>7414204790</td><td><span style=white-space:pre-wrap>67,701 in Beauty &amp; Personal Care (   </span></td><td>5</td></tr>\n",
       "</tbody>\n",
       "</table>\n"
      ],
      "text/latex": [
       "A data.frame: 6 × 6\n",
       "\\begin{tabular}{r|llllll}\n",
       "  & X & main\\_cat & price & asin & rank & overall\\\\\n",
       "  & <int> & <chr> & <chr> & <chr> & <chr> & <dbl>\\\\\n",
       "\\hline\n",
       "\t1 & 0 & All Beauty &        & 6546546450 & 2,938,573 in Beauty \\& Personal Care ( & 4\\\\\n",
       "\t2 & 1 & All Beauty &        & 6546546450 & 2,938,573 in Beauty \\& Personal Care ( & 1\\\\\n",
       "\t3 & 2 & All Beauty & \\$44.99 & 7178680776 & 872,854 in Beauty \\& Personal Care (   & 3\\\\\n",
       "\t4 & 3 & All Beauty & \\$28.76 & 7250468162 & 956,696 in Beauty \\& Personal Care (   & 5\\\\\n",
       "\t5 & 4 & All Beauty &        & 7367905066 & 1,870,258 in Beauty \\& Personal Care ( & 5\\\\\n",
       "\t6 & 5 & All Beauty & \\$12.15 & 7414204790 & 67,701 in Beauty \\& Personal Care (    & 5\\\\\n",
       "\\end{tabular}\n"
      ],
      "text/markdown": [
       "\n",
       "A data.frame: 6 × 6\n",
       "\n",
       "| <!--/--> | X &lt;int&gt; | main_cat &lt;chr&gt; | price &lt;chr&gt; | asin &lt;chr&gt; | rank &lt;chr&gt; | overall &lt;dbl&gt; |\n",
       "|---|---|---|---|---|---|---|\n",
       "| 1 | 0 | All Beauty | <!----> | 6546546450 | 2,938,573 in Beauty &amp; Personal Care ( | 4 |\n",
       "| 2 | 1 | All Beauty | <!----> | 6546546450 | 2,938,573 in Beauty &amp; Personal Care ( | 1 |\n",
       "| 3 | 2 | All Beauty | $44.99 | 7178680776 | 872,854 in Beauty &amp; Personal Care (   | 3 |\n",
       "| 4 | 3 | All Beauty | $28.76 | 7250468162 | 956,696 in Beauty &amp; Personal Care (   | 5 |\n",
       "| 5 | 4 | All Beauty | <!----> | 7367905066 | 1,870,258 in Beauty &amp; Personal Care ( | 5 |\n",
       "| 6 | 5 | All Beauty | $12.15 | 7414204790 | 67,701 in Beauty &amp; Personal Care (    | 5 |\n",
       "\n"
      ],
      "text/plain": [
       "  X main_cat   price  asin       rank                                  overall\n",
       "1 0 All Beauty        6546546450 2,938,573 in Beauty & Personal Care ( 4      \n",
       "2 1 All Beauty        6546546450 2,938,573 in Beauty & Personal Care ( 1      \n",
       "3 2 All Beauty $44.99 7178680776 872,854 in Beauty & Personal Care (   3      \n",
       "4 3 All Beauty $28.76 7250468162 956,696 in Beauty & Personal Care (   5      \n",
       "5 4 All Beauty        7367905066 1,870,258 in Beauty & Personal Care ( 5      \n",
       "6 5 All Beauty $12.15 7414204790 67,701 in Beauty & Personal Care (    5      "
      ]
     },
     "metadata": {},
     "output_type": "display_data"
    }
   ],
   "source": [
    "data <- read.csv(\"data/amazon_beauty_data.csv\")\n",
    "head(data)"
   ]
  },
  {
   "cell_type": "code",
   "execution_count": 3,
   "id": "93d92ec0-871d-4fee-bb22-60812c65fb2e",
   "metadata": {},
   "outputs": [
    {
     "name": "stderr",
     "output_type": "stream",
     "text": [
      "Warning message in mask$eval_all_mutate(quo):\n",
      "“NAs introduced by coercion”\n",
      "Warning message:\n",
      "“4957 parsing failures.\n",
      " row col expected actual\n",
      "4148  -- a number     []\n",
      "4149  -- a number     []\n",
      "4350  -- a number     []\n",
      "4351  -- a number     []\n",
      "4352  -- a number     []\n",
      ".... ... ........ ......\n",
      "See problems(...) for more details.\n",
      "”\n",
      "\u001b[1m\u001b[22m`summarise()` has grouped output by 'asin'. You can override using the\n",
      "`.groups` argument.\n"
     ]
    },
    {
     "data": {
      "text/html": [
       "<table class=\"dataframe\">\n",
       "<caption>A grouped_df: 6 × 5</caption>\n",
       "<thead>\n",
       "\t<tr><th scope=col>asin</th><th scope=col>product_avg_ratings</th><th scope=col>price</th><th scope=col>main_cat</th><th scope=col>rank</th></tr>\n",
       "\t<tr><th scope=col>&lt;chr&gt;</th><th scope=col>&lt;dbl&gt;</th><th scope=col>&lt;dbl&gt;</th><th scope=col>&lt;fct&gt;</th><th scope=col>&lt;dbl&gt;</th></tr>\n",
       "</thead>\n",
       "<tbody>\n",
       "\t<tr><td>6546546450</td><td>2.5</td><td>   NA</td><td>All Beauty</td><td>2938573</td></tr>\n",
       "\t<tr><td>6546546450</td><td>2.5</td><td>   NA</td><td>All Beauty</td><td>2938573</td></tr>\n",
       "\t<tr><td>7178680776</td><td>3.0</td><td>44.99</td><td>All Beauty</td><td> 872854</td></tr>\n",
       "\t<tr><td>7250468162</td><td>5.0</td><td>28.76</td><td>All Beauty</td><td> 956696</td></tr>\n",
       "\t<tr><td>7367905066</td><td>5.0</td><td>   NA</td><td>All Beauty</td><td>1870258</td></tr>\n",
       "\t<tr><td>7414204790</td><td>4.4</td><td>12.15</td><td>All Beauty</td><td>  67701</td></tr>\n",
       "</tbody>\n",
       "</table>\n"
      ],
      "text/latex": [
       "A grouped\\_df: 6 × 5\n",
       "\\begin{tabular}{lllll}\n",
       " asin & product\\_avg\\_ratings & price & main\\_cat & rank\\\\\n",
       " <chr> & <dbl> & <dbl> & <fct> & <dbl>\\\\\n",
       "\\hline\n",
       "\t 6546546450 & 2.5 &    NA & All Beauty & 2938573\\\\\n",
       "\t 6546546450 & 2.5 &    NA & All Beauty & 2938573\\\\\n",
       "\t 7178680776 & 3.0 & 44.99 & All Beauty &  872854\\\\\n",
       "\t 7250468162 & 5.0 & 28.76 & All Beauty &  956696\\\\\n",
       "\t 7367905066 & 5.0 &    NA & All Beauty & 1870258\\\\\n",
       "\t 7414204790 & 4.4 & 12.15 & All Beauty &   67701\\\\\n",
       "\\end{tabular}\n"
      ],
      "text/markdown": [
       "\n",
       "A grouped_df: 6 × 5\n",
       "\n",
       "| asin &lt;chr&gt; | product_avg_ratings &lt;dbl&gt; | price &lt;dbl&gt; | main_cat &lt;fct&gt; | rank &lt;dbl&gt; |\n",
       "|---|---|---|---|---|\n",
       "| 6546546450 | 2.5 |    NA | All Beauty | 2938573 |\n",
       "| 6546546450 | 2.5 |    NA | All Beauty | 2938573 |\n",
       "| 7178680776 | 3.0 | 44.99 | All Beauty |  872854 |\n",
       "| 7250468162 | 5.0 | 28.76 | All Beauty |  956696 |\n",
       "| 7367905066 | 5.0 |    NA | All Beauty | 1870258 |\n",
       "| 7414204790 | 4.4 | 12.15 | All Beauty |   67701 |\n",
       "\n"
      ],
      "text/plain": [
       "  asin       product_avg_ratings price main_cat   rank   \n",
       "1 6546546450 2.5                    NA All Beauty 2938573\n",
       "2 6546546450 2.5                    NA All Beauty 2938573\n",
       "3 7178680776 3.0                 44.99 All Beauty  872854\n",
       "4 7250468162 5.0                 28.76 All Beauty  956696\n",
       "5 7367905066 5.0                    NA All Beauty 1870258\n",
       "6 7414204790 4.4                 12.15 All Beauty   67701"
      ]
     },
     "metadata": {},
     "output_type": "display_data"
    }
   ],
   "source": [
    "data <- data %>%\n",
    "        mutate(main_cat = as.factor(main_cat))%>%\n",
    "        mutate(price =substr(price, 2, nchar(price)))%>%\n",
    "        mutate(price = as.numeric(price))%>%\n",
    "        mutate(rank= parse_number(rank))%>%\n",
    "        group_by(asin)%>%\n",
    "        summarize(product_avg_ratings = mean(overall), price = price, main_cat = main_cat, rank=rank)\n",
    "head(data)"
   ]
  },
  {
   "cell_type": "code",
   "execution_count": 4,
   "id": "4cd1355a-d617-4424-b262-d485a31da936",
   "metadata": {},
   "outputs": [
    {
     "name": "stdout",
     "output_type": "stream",
     "text": [
      "[1] 304810\n"
     ]
    }
   ],
   "source": [
    "print(sum(is.na(data$price)))"
   ]
  },
  {
   "cell_type": "code",
   "execution_count": 5,
   "id": "2ad271a3-ca32-4e3e-8fc5-dcc779658593",
   "metadata": {},
   "outputs": [
    {
     "name": "stdout",
     "output_type": "stream",
     "text": [
      "[1] 4957\n"
     ]
    }
   ],
   "source": [
    "print(sum(is.na(data$rank)))"
   ]
  },
  {
   "cell_type": "code",
   "execution_count": 6,
   "id": "0f0c4499-eb31-4c20-852d-05deb6fbdeec",
   "metadata": {},
   "outputs": [
    {
     "data": {
      "text/html": [
       "<table class=\"dataframe\">\n",
       "<caption>A grouped_df: 6 × 5</caption>\n",
       "<thead>\n",
       "\t<tr><th scope=col>asin</th><th scope=col>product_avg_ratings</th><th scope=col>price</th><th scope=col>main_cat</th><th scope=col>rank</th></tr>\n",
       "\t<tr><th scope=col>&lt;chr&gt;</th><th scope=col>&lt;dbl&gt;</th><th scope=col>&lt;dbl&gt;</th><th scope=col>&lt;fct&gt;</th><th scope=col>&lt;dbl&gt;</th></tr>\n",
       "</thead>\n",
       "<tbody>\n",
       "\t<tr><td>7178680776</td><td>3.00000</td><td>44.99</td><td>All Beauty</td><td> 872854</td></tr>\n",
       "\t<tr><td>7250468162</td><td>5.00000</td><td>28.76</td><td>All Beauty</td><td> 956696</td></tr>\n",
       "\t<tr><td>7414204790</td><td>4.40000</td><td>12.15</td><td>All Beauty</td><td>  67701</td></tr>\n",
       "\t<tr><td>8921463194</td><td>1.00000</td><td>24.99</td><td>All Beauty</td><td>1676787</td></tr>\n",
       "\t<tr><td>9752980953</td><td>1.00000</td><td>21.95</td><td>All Beauty</td><td>2325042</td></tr>\n",
       "\t<tr><td>9790787006</td><td>4.22807</td><td>13.85</td><td>All Beauty</td><td> 298893</td></tr>\n",
       "</tbody>\n",
       "</table>\n"
      ],
      "text/latex": [
       "A grouped\\_df: 6 × 5\n",
       "\\begin{tabular}{lllll}\n",
       " asin & product\\_avg\\_ratings & price & main\\_cat & rank\\\\\n",
       " <chr> & <dbl> & <dbl> & <fct> & <dbl>\\\\\n",
       "\\hline\n",
       "\t 7178680776 & 3.00000 & 44.99 & All Beauty &  872854\\\\\n",
       "\t 7250468162 & 5.00000 & 28.76 & All Beauty &  956696\\\\\n",
       "\t 7414204790 & 4.40000 & 12.15 & All Beauty &   67701\\\\\n",
       "\t 8921463194 & 1.00000 & 24.99 & All Beauty & 1676787\\\\\n",
       "\t 9752980953 & 1.00000 & 21.95 & All Beauty & 2325042\\\\\n",
       "\t 9790787006 & 4.22807 & 13.85 & All Beauty &  298893\\\\\n",
       "\\end{tabular}\n"
      ],
      "text/markdown": [
       "\n",
       "A grouped_df: 6 × 5\n",
       "\n",
       "| asin &lt;chr&gt; | product_avg_ratings &lt;dbl&gt; | price &lt;dbl&gt; | main_cat &lt;fct&gt; | rank &lt;dbl&gt; |\n",
       "|---|---|---|---|---|\n",
       "| 7178680776 | 3.00000 | 44.99 | All Beauty |  872854 |\n",
       "| 7250468162 | 5.00000 | 28.76 | All Beauty |  956696 |\n",
       "| 7414204790 | 4.40000 | 12.15 | All Beauty |   67701 |\n",
       "| 8921463194 | 1.00000 | 24.99 | All Beauty | 1676787 |\n",
       "| 9752980953 | 1.00000 | 21.95 | All Beauty | 2325042 |\n",
       "| 9790787006 | 4.22807 | 13.85 | All Beauty |  298893 |\n",
       "\n"
      ],
      "text/plain": [
       "  asin       product_avg_ratings price main_cat   rank   \n",
       "1 7178680776 3.00000             44.99 All Beauty  872854\n",
       "2 7250468162 5.00000             28.76 All Beauty  956696\n",
       "3 7414204790 4.40000             12.15 All Beauty   67701\n",
       "4 8921463194 1.00000             24.99 All Beauty 1676787\n",
       "5 9752980953 1.00000             21.95 All Beauty 2325042\n",
       "6 9790787006 4.22807             13.85 All Beauty  298893"
      ]
     },
     "metadata": {},
     "output_type": "display_data"
    }
   ],
   "source": [
    "data <- data %>%\n",
    "        drop_na()%>%\n",
    "        distinct(asin, .keep_all=TRUE)\n",
    "head(data)"
   ]
  },
  {
   "cell_type": "code",
   "execution_count": 7,
   "id": "1b808dc4-40fe-424a-9046-9ab8762be07c",
   "metadata": {},
   "outputs": [
    {
     "name": "stdout",
     "output_type": "stream",
     "text": [
      "coded 1 cols \n"
     ]
    },
    {
     "data": {
      "text/html": [
       "<table class=\"dataframe\">\n",
       "<caption>A grouped_df: 6 × 5</caption>\n",
       "<thead>\n",
       "\t<tr><th scope=col>asin</th><th scope=col>product_avg_ratings</th><th scope=col>price</th><th scope=col>main_cat</th><th scope=col>rank</th></tr>\n",
       "\t<tr><th scope=col>&lt;chr&gt;</th><th scope=col>&lt;dbl&gt;</th><th scope=col>&lt;dbl&gt;</th><th scope=col>&lt;fct&gt;</th><th scope=col>&lt;dbl&gt;</th></tr>\n",
       "</thead>\n",
       "<tbody>\n",
       "\t<tr><td>7178680776</td><td>3.00000</td><td>44.99</td><td>0</td><td> 872854</td></tr>\n",
       "\t<tr><td>7250468162</td><td>5.00000</td><td>28.76</td><td>0</td><td> 956696</td></tr>\n",
       "\t<tr><td>7414204790</td><td>4.40000</td><td>12.15</td><td>0</td><td>  67701</td></tr>\n",
       "\t<tr><td>8921463194</td><td>1.00000</td><td>24.99</td><td>0</td><td>1676787</td></tr>\n",
       "\t<tr><td>9752980953</td><td>1.00000</td><td>21.95</td><td>0</td><td>2325042</td></tr>\n",
       "\t<tr><td>9790787006</td><td>4.22807</td><td>13.85</td><td>0</td><td> 298893</td></tr>\n",
       "</tbody>\n",
       "</table>\n"
      ],
      "text/latex": [
       "A grouped\\_df: 6 × 5\n",
       "\\begin{tabular}{lllll}\n",
       " asin & product\\_avg\\_ratings & price & main\\_cat & rank\\\\\n",
       " <chr> & <dbl> & <dbl> & <fct> & <dbl>\\\\\n",
       "\\hline\n",
       "\t 7178680776 & 3.00000 & 44.99 & 0 &  872854\\\\\n",
       "\t 7250468162 & 5.00000 & 28.76 & 0 &  956696\\\\\n",
       "\t 7414204790 & 4.40000 & 12.15 & 0 &   67701\\\\\n",
       "\t 8921463194 & 1.00000 & 24.99 & 0 & 1676787\\\\\n",
       "\t 9752980953 & 1.00000 & 21.95 & 0 & 2325042\\\\\n",
       "\t 9790787006 & 4.22807 & 13.85 & 0 &  298893\\\\\n",
       "\\end{tabular}\n"
      ],
      "text/markdown": [
       "\n",
       "A grouped_df: 6 × 5\n",
       "\n",
       "| asin &lt;chr&gt; | product_avg_ratings &lt;dbl&gt; | price &lt;dbl&gt; | main_cat &lt;fct&gt; | rank &lt;dbl&gt; |\n",
       "|---|---|---|---|---|\n",
       "| 7178680776 | 3.00000 | 44.99 | 0 |  872854 |\n",
       "| 7250468162 | 5.00000 | 28.76 | 0 |  956696 |\n",
       "| 7414204790 | 4.40000 | 12.15 | 0 |   67701 |\n",
       "| 8921463194 | 1.00000 | 24.99 | 0 | 1676787 |\n",
       "| 9752980953 | 1.00000 | 21.95 | 0 | 2325042 |\n",
       "| 9790787006 | 4.22807 | 13.85 | 0 |  298893 |\n",
       "\n"
      ],
      "text/plain": [
       "  asin       product_avg_ratings price main_cat rank   \n",
       "1 7178680776 3.00000             44.99 0         872854\n",
       "2 7250468162 5.00000             28.76 0         956696\n",
       "3 7414204790 4.40000             12.15 0          67701\n",
       "4 8921463194 1.00000             24.99 0        1676787\n",
       "5 9752980953 1.00000             21.95 0        2325042\n",
       "6 9790787006 4.22807             13.85 0         298893"
      ]
     },
     "metadata": {},
     "output_type": "display_data"
    }
   ],
   "source": [
    "data['main_cat'] <- encode_binary(data.frame(data['main_cat']), full_print=FALSE)\n",
    "head(data)"
   ]
  },
  {
   "cell_type": "code",
   "execution_count": 8,
   "id": "29f5efb8-56da-412e-9db7-ce6eac27dae5",
   "metadata": {},
   "outputs": [
    {
     "data": {
      "text/plain": [
       "     asin           product_avg_ratings     price         main_cat \n",
       " Length:17936       Min.   :1.000       Min.   :   0.01   0:11104  \n",
       " Class :character   1st Qu.:3.818       1st Qu.:  11.90   1: 6832  \n",
       " Mode  :character   Median :4.333       Median :  21.00            \n",
       "                    Mean   :4.142       Mean   :  34.27            \n",
       "                    3rd Qu.:5.000       3rd Qu.:  39.00            \n",
       "                    Max.   :5.000       Max.   : 999.99            \n",
       "      rank        \n",
       " Min.   :     35  \n",
       " 1st Qu.: 124466  \n",
       " Median : 407634  \n",
       " Mean   : 617067  \n",
       " 3rd Qu.: 920822  \n",
       " Max.   :9549407  "
      ]
     },
     "metadata": {},
     "output_type": "display_data"
    }
   ],
   "source": [
    "summary(data)"
   ]
  },
  {
   "cell_type": "code",
   "execution_count": 9,
   "id": "60130a76-bf30-4855-974d-d79030ea122c",
   "metadata": {},
   "outputs": [
    {
     "data": {
      "text/html": [
       "0.921635619342149"
      ],
      "text/latex": [
       "0.921635619342149"
      ],
      "text/markdown": [
       "0.921635619342149"
      ],
      "text/plain": [
       "[1] 0.9216356"
      ]
     },
     "metadata": {},
     "output_type": "display_data"
    }
   ],
   "source": [
    "sd(data$product_avg_ratings)"
   ]
  },
  {
   "cell_type": "code",
   "execution_count": 10,
   "id": "a3e98471-bfb0-44f2-af0f-c7e7de809d2f",
   "metadata": {},
   "outputs": [
    {
     "data": {
      "text/html": [
       "47.2653304529383"
      ],
      "text/latex": [
       "47.2653304529383"
      ],
      "text/markdown": [
       "47.2653304529383"
      ],
      "text/plain": [
       "[1] 47.26533"
      ]
     },
     "metadata": {},
     "output_type": "display_data"
    }
   ],
   "source": [
    "sd(data$price)"
   ]
  },
  {
   "cell_type": "code",
   "execution_count": 11,
   "id": "d412182e-c633-4293-b65f-71c84329a948",
   "metadata": {},
   "outputs": [],
   "source": [
    "# save(data, file = \"dataset.RData\")"
   ]
  },
  {
   "cell_type": "code",
   "execution_count": 12,
   "id": "92515429-f535-40d6-93be-19edb4757064",
   "metadata": {},
   "outputs": [],
   "source": [
    "write.csv(data, file = \"data/cleaned_dataset.csv\", row.names=FALSE)"
   ]
  },
  {
   "cell_type": "code",
   "execution_count": null,
   "id": "cb774720-91d1-4c07-898c-9a8d1902914f",
   "metadata": {},
   "outputs": [],
   "source": []
  }
 ],
 "metadata": {
  "kernelspec": {
   "display_name": "R",
   "language": "R",
   "name": "ir"
  },
  "language_info": {
   "codemirror_mode": "r",
   "file_extension": ".r",
   "mimetype": "text/x-r-source",
   "name": "R",
   "pygments_lexer": "r",
   "version": "4.1.2"
  }
 },
 "nbformat": 4,
 "nbformat_minor": 5
}
