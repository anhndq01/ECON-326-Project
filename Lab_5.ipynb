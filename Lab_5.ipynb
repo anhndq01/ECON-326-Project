{
 "cells": [
  {
   "cell_type": "code",
   "execution_count": 1,
   "id": "acbcaf12-479f-460c-836c-09998612d0f9",
   "metadata": {},
   "outputs": [
    {
     "name": "stderr",
     "output_type": "stream",
     "text": [
      "── \u001b[1mAttaching packages\u001b[22m ─────────────────────────────────────── tidyverse 1.3.2 ──\n",
      "\u001b[32m✔\u001b[39m \u001b[34mggplot2\u001b[39m 3.4.0      \u001b[32m✔\u001b[39m \u001b[34mpurrr  \u001b[39m 1.0.1 \n",
      "\u001b[32m✔\u001b[39m \u001b[34mtibble \u001b[39m 3.1.8      \u001b[32m✔\u001b[39m \u001b[34mdplyr  \u001b[39m 1.0.10\n",
      "\u001b[32m✔\u001b[39m \u001b[34mtidyr  \u001b[39m 1.2.1      \u001b[32m✔\u001b[39m \u001b[34mstringr\u001b[39m 1.5.0 \n",
      "\u001b[32m✔\u001b[39m \u001b[34mreadr  \u001b[39m 2.1.3      \u001b[32m✔\u001b[39m \u001b[34mforcats\u001b[39m 0.5.2 \n",
      "── \u001b[1mConflicts\u001b[22m ────────────────────────────────────────── tidyverse_conflicts() ──\n",
      "\u001b[31m✖\u001b[39m \u001b[34mdplyr\u001b[39m::\u001b[32mfilter()\u001b[39m masks \u001b[34mstats\u001b[39m::filter()\n",
      "\u001b[31m✖\u001b[39m \u001b[34mdplyr\u001b[39m::\u001b[32mlag()\u001b[39m    masks \u001b[34mstats\u001b[39m::lag()\n",
      "\n",
      "Please cite as: \n",
      "\n",
      "\n",
      " Hlavac, Marek (2022). stargazer: Well-Formatted Regression and Summary Statistics Tables.\n",
      "\n",
      " R package version 5.2.3. https://CRAN.R-project.org/package=stargazer \n",
      "\n",
      "\n"
     ]
    }
   ],
   "source": [
    "library(tidyverse) \n",
    "library(haven)\n",
    "library(dplyr)\n",
    "library(stargazer)"
   ]
  },
  {
   "cell_type": "code",
   "execution_count": 2,
   "id": "d7f299c9-2c9c-441d-9cb8-cffd629bb8aa",
   "metadata": {},
   "outputs": [
    {
     "data": {
      "text/html": [
       "<table class=\"dataframe\">\n",
       "<caption>A data.frame: 6 × 4</caption>\n",
       "<thead>\n",
       "\t<tr><th></th><th scope=col>asin</th><th scope=col>product_avg_ratings</th><th scope=col>price</th><th scope=col>main_cat</th></tr>\n",
       "\t<tr><th></th><th scope=col>&lt;chr&gt;</th><th scope=col>&lt;dbl&gt;</th><th scope=col>&lt;dbl&gt;</th><th scope=col>&lt;int&gt;</th></tr>\n",
       "</thead>\n",
       "<tbody>\n",
       "\t<tr><th scope=row>1</th><td>7178680776</td><td>3.00000</td><td>44.99</td><td>0</td></tr>\n",
       "\t<tr><th scope=row>2</th><td>7250468162</td><td>5.00000</td><td>28.76</td><td>0</td></tr>\n",
       "\t<tr><th scope=row>3</th><td>7414204790</td><td>4.40000</td><td>12.15</td><td>0</td></tr>\n",
       "\t<tr><th scope=row>4</th><td>8921463194</td><td>1.00000</td><td>24.99</td><td>0</td></tr>\n",
       "\t<tr><th scope=row>5</th><td>9752980953</td><td>1.00000</td><td>21.95</td><td>0</td></tr>\n",
       "\t<tr><th scope=row>6</th><td>9790787006</td><td>4.22807</td><td>13.85</td><td>0</td></tr>\n",
       "</tbody>\n",
       "</table>\n"
      ],
      "text/latex": [
       "A data.frame: 6 × 4\n",
       "\\begin{tabular}{r|llll}\n",
       "  & asin & product\\_avg\\_ratings & price & main\\_cat\\\\\n",
       "  & <chr> & <dbl> & <dbl> & <int>\\\\\n",
       "\\hline\n",
       "\t1 & 7178680776 & 3.00000 & 44.99 & 0\\\\\n",
       "\t2 & 7250468162 & 5.00000 & 28.76 & 0\\\\\n",
       "\t3 & 7414204790 & 4.40000 & 12.15 & 0\\\\\n",
       "\t4 & 8921463194 & 1.00000 & 24.99 & 0\\\\\n",
       "\t5 & 9752980953 & 1.00000 & 21.95 & 0\\\\\n",
       "\t6 & 9790787006 & 4.22807 & 13.85 & 0\\\\\n",
       "\\end{tabular}\n"
      ],
      "text/markdown": [
       "\n",
       "A data.frame: 6 × 4\n",
       "\n",
       "| <!--/--> | asin &lt;chr&gt; | product_avg_ratings &lt;dbl&gt; | price &lt;dbl&gt; | main_cat &lt;int&gt; |\n",
       "|---|---|---|---|---|\n",
       "| 1 | 7178680776 | 3.00000 | 44.99 | 0 |\n",
       "| 2 | 7250468162 | 5.00000 | 28.76 | 0 |\n",
       "| 3 | 7414204790 | 4.40000 | 12.15 | 0 |\n",
       "| 4 | 8921463194 | 1.00000 | 24.99 | 0 |\n",
       "| 5 | 9752980953 | 1.00000 | 21.95 | 0 |\n",
       "| 6 | 9790787006 | 4.22807 | 13.85 | 0 |\n",
       "\n"
      ],
      "text/plain": [
       "  asin       product_avg_ratings price main_cat\n",
       "1 7178680776 3.00000             44.99 0       \n",
       "2 7250468162 5.00000             28.76 0       \n",
       "3 7414204790 4.40000             12.15 0       \n",
       "4 8921463194 1.00000             24.99 0       \n",
       "5 9752980953 1.00000             21.95 0       \n",
       "6 9790787006 4.22807             13.85 0       "
      ]
     },
     "metadata": {},
     "output_type": "display_data"
    }
   ],
   "source": [
    "amazon_data <-read.csv(\"data/cleaned_dataset.csv\")\n",
    "head(amazon_data)"
   ]
  },
  {
   "cell_type": "code",
   "execution_count": 3,
   "id": "fb9db05c-d8ca-4f49-b805-83cb71935baa",
   "metadata": {},
   "outputs": [],
   "source": [
    "amazon_data <- amazon_data %>%\n",
    "                mutate(logprice=log(price))"
   ]
  },
  {
   "cell_type": "code",
   "execution_count": 4,
   "id": "df84efd3-7a05-4b90-bd38-f772e49a39c4",
   "metadata": {},
   "outputs": [
    {
     "data": {
      "text/html": [
       "<table class=\"dataframe\">\n",
       "<caption>A data.frame: 6 × 5</caption>\n",
       "<thead>\n",
       "\t<tr><th></th><th scope=col>asin</th><th scope=col>product_avg_ratings</th><th scope=col>price</th><th scope=col>main_cat</th><th scope=col>logprice</th></tr>\n",
       "\t<tr><th></th><th scope=col>&lt;chr&gt;</th><th scope=col>&lt;dbl&gt;</th><th scope=col>&lt;dbl&gt;</th><th scope=col>&lt;int&gt;</th><th scope=col>&lt;dbl&gt;</th></tr>\n",
       "</thead>\n",
       "<tbody>\n",
       "\t<tr><th scope=row>1</th><td>7178680776</td><td>3.00000</td><td>44.99</td><td>0</td><td>3.806440</td></tr>\n",
       "\t<tr><th scope=row>2</th><td>7250468162</td><td>5.00000</td><td>28.76</td><td>0</td><td>3.358986</td></tr>\n",
       "\t<tr><th scope=row>3</th><td>7414204790</td><td>4.40000</td><td>12.15</td><td>0</td><td>2.497329</td></tr>\n",
       "\t<tr><th scope=row>4</th><td>8921463194</td><td>1.00000</td><td>24.99</td><td>0</td><td>3.218476</td></tr>\n",
       "\t<tr><th scope=row>5</th><td>9752980953</td><td>1.00000</td><td>21.95</td><td>0</td><td>3.088767</td></tr>\n",
       "\t<tr><th scope=row>6</th><td>9790787006</td><td>4.22807</td><td>13.85</td><td>0</td><td>2.628285</td></tr>\n",
       "</tbody>\n",
       "</table>\n"
      ],
      "text/latex": [
       "A data.frame: 6 × 5\n",
       "\\begin{tabular}{r|lllll}\n",
       "  & asin & product\\_avg\\_ratings & price & main\\_cat & logprice\\\\\n",
       "  & <chr> & <dbl> & <dbl> & <int> & <dbl>\\\\\n",
       "\\hline\n",
       "\t1 & 7178680776 & 3.00000 & 44.99 & 0 & 3.806440\\\\\n",
       "\t2 & 7250468162 & 5.00000 & 28.76 & 0 & 3.358986\\\\\n",
       "\t3 & 7414204790 & 4.40000 & 12.15 & 0 & 2.497329\\\\\n",
       "\t4 & 8921463194 & 1.00000 & 24.99 & 0 & 3.218476\\\\\n",
       "\t5 & 9752980953 & 1.00000 & 21.95 & 0 & 3.088767\\\\\n",
       "\t6 & 9790787006 & 4.22807 & 13.85 & 0 & 2.628285\\\\\n",
       "\\end{tabular}\n"
      ],
      "text/markdown": [
       "\n",
       "A data.frame: 6 × 5\n",
       "\n",
       "| <!--/--> | asin &lt;chr&gt; | product_avg_ratings &lt;dbl&gt; | price &lt;dbl&gt; | main_cat &lt;int&gt; | logprice &lt;dbl&gt; |\n",
       "|---|---|---|---|---|---|\n",
       "| 1 | 7178680776 | 3.00000 | 44.99 | 0 | 3.806440 |\n",
       "| 2 | 7250468162 | 5.00000 | 28.76 | 0 | 3.358986 |\n",
       "| 3 | 7414204790 | 4.40000 | 12.15 | 0 | 2.497329 |\n",
       "| 4 | 8921463194 | 1.00000 | 24.99 | 0 | 3.218476 |\n",
       "| 5 | 9752980953 | 1.00000 | 21.95 | 0 | 3.088767 |\n",
       "| 6 | 9790787006 | 4.22807 | 13.85 | 0 | 2.628285 |\n",
       "\n"
      ],
      "text/plain": [
       "  asin       product_avg_ratings price main_cat logprice\n",
       "1 7178680776 3.00000             44.99 0        3.806440\n",
       "2 7250468162 5.00000             28.76 0        3.358986\n",
       "3 7414204790 4.40000             12.15 0        2.497329\n",
       "4 8921463194 1.00000             24.99 0        3.218476\n",
       "5 9752980953 1.00000             21.95 0        3.088767\n",
       "6 9790787006 4.22807             13.85 0        2.628285"
      ]
     },
     "metadata": {},
     "output_type": "display_data"
    }
   ],
   "source": [
    "head(amazon_data)"
   ]
  },
  {
   "cell_type": "code",
   "execution_count": 5,
   "id": "203706db-fd01-4036-9ac7-00590c556bd9",
   "metadata": {},
   "outputs": [
    {
     "name": "stdout",
     "output_type": "stream",
     "text": [
      "\n",
      "Comparison of Regression Results\n",
      "================================================\n",
      "                     Dependent variable:        \n",
      "             -----------------------------------\n",
      "                     product_avg_ratings        \n",
      "               (1)      (2)      (3)      (4)   \n",
      "------------------------------------------------\n",
      "logprice     0.089*** 0.129***  0.006   0.095***\n",
      "             (0.007)  (0.010)  (0.011)  (0.008) \n",
      "                                                \n",
      "main_cat                                -0.036**\n",
      "                                        (0.015) \n",
      "                                                \n",
      "Constant     3.867*** 3.765*** 4.135*** 3.862***\n",
      "             (0.023)  (0.030)  (0.038)  (0.023) \n",
      "                                                \n",
      "------------------------------------------------\n",
      "Observations  18,023   11,171   6,852    18,023 \n",
      "R2            0.008    0.014    0.0001   0.009  \n",
      "================================================\n",
      "Note:                *p<0.1; **p<0.05; ***p<0.01\n"
     ]
    }
   ],
   "source": [
    "regression1<-lm(data=amazon_data,product_avg_ratings~logprice)\n",
    "regression2<-lm(data=filter(amazon_data,main_cat==\"0\"),product_avg_ratings~logprice)\n",
    "regression3<-lm(data=filter(amazon_data,main_cat==\"1\"),product_avg_ratings~logprice)\n",
    "regression4<-lm(data=amazon_data,product_avg_ratings~logprice+main_cat)\n",
    "stargazer(regression1, regression2, regression3,regression4, title=\"Comparison of Regression Results\",\n",
    "          align = TRUE, type=\"text\", keep.stat = c(\"n\",\"rsq\"))"
   ]
  }
 ],
 "metadata": {
  "kernelspec": {
   "display_name": "R",
   "language": "R",
   "name": "ir"
  },
  "language_info": {
   "codemirror_mode": "r",
   "file_extension": ".r",
   "mimetype": "text/x-r-source",
   "name": "R",
   "pygments_lexer": "r",
   "version": "4.1.2"
  }
 },
 "nbformat": 4,
 "nbformat_minor": 5
}
